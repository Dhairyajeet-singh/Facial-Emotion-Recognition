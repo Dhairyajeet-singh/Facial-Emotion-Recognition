{
  "nbformat": 4,
  "nbformat_minor": 0,
  "metadata": {
    "colab": {
      "provenance": [],
      "gpuType": "T4",
      "include_colab_link": true
    },
    "kernelspec": {
      "name": "python3",
      "display_name": "Python 3"
    },
    "language_info": {
      "name": "python"
    },
    "accelerator": "GPU"
  },
  "cells": [
    {
      "cell_type": "markdown",
      "metadata": {
        "id": "view-in-github",
        "colab_type": "text"
      },
      "source": [
        "<a href=\"https://colab.research.google.com/github/Dhairyajeet-singh/Facial-Emotion-Recognition/blob/main/FER.ipynb\" target=\"_parent\"><img src=\"https://colab.research.google.com/assets/colab-badge.svg\" alt=\"Open In Colab\"/></a>"
      ]
    },
    {
      "cell_type": "code",
      "execution_count": 1,
      "metadata": {
        "id": "BRKM2uGZOUCJ",
        "colab": {
          "base_uri": "https://localhost:8080/"
        },
        "outputId": "e2ff79ad-e143-4716-f36a-b3fb13a417f2"
      },
      "outputs": [
        {
          "output_type": "stream",
          "name": "stdout",
          "text": [
            "cp: cannot stat 'kaggle.json': No such file or directory\n"
          ]
        }
      ],
      "source": [
        "!mkdir -p ~/.kaggle\n",
        "!cp kaggle.json ~/.kaggle/"
      ]
    },
    {
      "cell_type": "code",
      "source": [
        "\n",
        "!kaggle datasets download -d msambare/fer2013"
      ],
      "metadata": {
        "colab": {
          "base_uri": "https://localhost:8080/"
        },
        "id": "-wrb7jQGg_t4",
        "outputId": "c3120de1-6d36-4144-b491-65521f34d7ca"
      },
      "execution_count": 2,
      "outputs": [
        {
          "output_type": "stream",
          "name": "stdout",
          "text": [
            "Dataset URL: https://www.kaggle.com/datasets/msambare/fer2013\n",
            "License(s): DbCL-1.0\n",
            "Downloading fer2013.zip to /content\n",
            " 96% 58.0M/60.3M [00:00<00:00, 151MB/s]\n",
            "100% 60.3M/60.3M [00:00<00:00, 142MB/s]\n"
          ]
        }
      ]
    },
    {
      "cell_type": "code",
      "source": [
        "!chmod 600 /root/.kaggle/kaggle.json"
      ],
      "metadata": {
        "colab": {
          "base_uri": "https://localhost:8080/"
        },
        "id": "_vqz-WChhSaX",
        "outputId": "21f6816d-9a6a-41a3-d40a-3b9003f64009"
      },
      "execution_count": 3,
      "outputs": [
        {
          "output_type": "stream",
          "name": "stdout",
          "text": [
            "chmod: cannot access '/root/.kaggle/kaggle.json': No such file or directory\n"
          ]
        }
      ]
    },
    {
      "cell_type": "code",
      "source": [
        "import zipfile\n",
        "zip_data = zipfile.ZipFile('/content/fer2013.zip')\n",
        "zip_data.extractall('/content/')\n",
        "zip_data.close()"
      ],
      "metadata": {
        "id": "yDLPrWeDhVHn"
      },
      "execution_count": 4,
      "outputs": []
    },
    {
      "cell_type": "code",
      "source": [
        "import tensorflow as tf\n",
        "from tensorflow import keras\n",
        "from keras import Sequential\n",
        "from keras.layers import Conv2D, MaxPooling2D, Dense, Flatten,LSTM,Reshape\n",
        "from tensorflow.keras.preprocessing.image import ImageDataGenerator\n",
        "import cv2\n",
        "import matplotlib.pyplot as plt\n",
        "from keras.layers import Dropout, BatchNormalization\n",
        "import numpy as np"
      ],
      "metadata": {
        "id": "b9IaDeIohfek"
      },
      "execution_count": 5,
      "outputs": []
    },
    {
      "cell_type": "code",
      "source": [
        "emotions = ['angry','disgust','fear','happy','neutral','sad','surprise']"
      ],
      "metadata": {
        "id": "ORPA9AP9hgTI"
      },
      "execution_count": 6,
      "outputs": []
    },
    {
      "cell_type": "code",
      "source": [
        "image=cv2.imread('/content/train/angry/Training_10118481.jpg')"
      ],
      "metadata": {
        "id": "v8evR0CShvrm"
      },
      "execution_count": 7,
      "outputs": []
    },
    {
      "cell_type": "code",
      "source": [
        "image"
      ],
      "metadata": {
        "colab": {
          "base_uri": "https://localhost:8080/",
          "height": 89
        },
        "id": "sGZY7_KIh163",
        "outputId": "90569605-0cf3-4a87-a618-0835524ae938"
      },
      "execution_count": 8,
      "outputs": [
        {
          "output_type": "execute_result",
          "data": {
            "text/plain": [
              "array([[[ 50,  50,  50],\n",
              "        [ 32,  32,  32],\n",
              "        [ 15,  15,  15],\n",
              "        ...,\n",
              "        [133, 133, 133],\n",
              "        [151, 151, 151],\n",
              "        [ 86,  86,  86]],\n",
              "\n",
              "       [[ 57,  57,  57],\n",
              "        [ 34,  34,  34],\n",
              "        [ 22,  22,  22],\n",
              "        ...,\n",
              "        [138, 138, 138],\n",
              "        [151, 151, 151],\n",
              "        [ 89,  89,  89]],\n",
              "\n",
              "       [[ 61,  61,  61],\n",
              "        [ 30,  30,  30],\n",
              "        [ 24,  24,  24],\n",
              "        ...,\n",
              "        [142, 142, 142],\n",
              "        [149, 149, 149],\n",
              "        [ 89,  89,  89]],\n",
              "\n",
              "       ...,\n",
              "\n",
              "       [[103, 103, 103],\n",
              "        [100, 100, 100],\n",
              "        [100, 100, 100],\n",
              "        ...,\n",
              "        [149, 149, 149],\n",
              "        [104, 104, 104],\n",
              "        [ 85,  85,  85]],\n",
              "\n",
              "       [[107, 107, 107],\n",
              "        [111, 111, 111],\n",
              "        [113, 113, 113],\n",
              "        ...,\n",
              "        [151, 151, 151],\n",
              "        [120, 120, 120],\n",
              "        [ 86,  86,  86]],\n",
              "\n",
              "       [[104, 104, 104],\n",
              "        [104, 104, 104],\n",
              "        [112, 112, 112],\n",
              "        ...,\n",
              "        [143, 143, 143],\n",
              "        [136, 136, 136],\n",
              "        [ 83,  83,  83]]], dtype=uint8)"
            ],
            "text/html": [
              "<style>\n",
              "      .ndarray_repr .ndarray_raw_data {\n",
              "        display: none;\n",
              "      }\n",
              "      .ndarray_repr.show_array .ndarray_raw_data {\n",
              "        display: block;\n",
              "      }\n",
              "      .ndarray_repr.show_array .ndarray_image_preview {\n",
              "        display: none;\n",
              "      }\n",
              "      </style>\n",
              "      <div id=\"id-1aa6ad73-2d3f-4305-bd5c-adf131c490b6\" class=\"ndarray_repr\"><pre>ndarray (48, 48, 3) <button style=\"padding: 0 2px;\">show data</button></pre><img src=\"data:image/png;base64,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\" class=\"ndarray_image_preview\" /><pre class=\"ndarray_raw_data\">array([[[ 50,  50,  50],\n",
              "        [ 32,  32,  32],\n",
              "        [ 15,  15,  15],\n",
              "        ...,\n",
              "        [133, 133, 133],\n",
              "        [151, 151, 151],\n",
              "        [ 86,  86,  86]],\n",
              "\n",
              "       [[ 57,  57,  57],\n",
              "        [ 34,  34,  34],\n",
              "        [ 22,  22,  22],\n",
              "        ...,\n",
              "        [138, 138, 138],\n",
              "        [151, 151, 151],\n",
              "        [ 89,  89,  89]],\n",
              "\n",
              "       [[ 61,  61,  61],\n",
              "        [ 30,  30,  30],\n",
              "        [ 24,  24,  24],\n",
              "        ...,\n",
              "        [142, 142, 142],\n",
              "        [149, 149, 149],\n",
              "        [ 89,  89,  89]],\n",
              "\n",
              "       ...,\n",
              "\n",
              "       [[103, 103, 103],\n",
              "        [100, 100, 100],\n",
              "        [100, 100, 100],\n",
              "        ...,\n",
              "        [149, 149, 149],\n",
              "        [104, 104, 104],\n",
              "        [ 85,  85,  85]],\n",
              "\n",
              "       [[107, 107, 107],\n",
              "        [111, 111, 111],\n",
              "        [113, 113, 113],\n",
              "        ...,\n",
              "        [151, 151, 151],\n",
              "        [120, 120, 120],\n",
              "        [ 86,  86,  86]],\n",
              "\n",
              "       [[104, 104, 104],\n",
              "        [104, 104, 104],\n",
              "        [112, 112, 112],\n",
              "        ...,\n",
              "        [143, 143, 143],\n",
              "        [136, 136, 136],\n",
              "        [ 83,  83,  83]]], dtype=uint8)</pre></div><script>\n",
              "      (() => {\n",
              "      const titles = ['show data', 'hide data'];\n",
              "      let index = 0\n",
              "      document.querySelector('#id-1aa6ad73-2d3f-4305-bd5c-adf131c490b6 button').onclick = (e) => {\n",
              "        document.querySelector('#id-1aa6ad73-2d3f-4305-bd5c-adf131c490b6').classList.toggle('show_array');\n",
              "        index = (++index) % 2;\n",
              "        document.querySelector('#id-1aa6ad73-2d3f-4305-bd5c-adf131c490b6 button').textContent = titles[index];\n",
              "        e.preventDefault();\n",
              "        e.stopPropagation();\n",
              "      }\n",
              "      })();\n",
              "    </script>"
            ]
          },
          "metadata": {},
          "execution_count": 8
        }
      ]
    },
    {
      "cell_type": "code",
      "source": [
        "plt.imshow(image)"
      ],
      "metadata": {
        "colab": {
          "base_uri": "https://localhost:8080/",
          "height": 448
        },
        "id": "FtjQX7iyh4SW",
        "outputId": "fa2d9f72-666b-4397-bb58-ad96e4738ecd"
      },
      "execution_count": 9,
      "outputs": [
        {
          "output_type": "execute_result",
          "data": {
            "text/plain": [
              "<matplotlib.image.AxesImage at 0x7a7868bcebf0>"
            ]
          },
          "metadata": {},
          "execution_count": 9
        },
        {
          "output_type": "display_data",
          "data": {
            "text/plain": [
              "<Figure size 640x480 with 1 Axes>"
            ],
            "image/png": "[encoded data removed]"
          },
          "metadata": {}
        }
      ]
    },
    {
      "cell_type": "code",
      "source": [
        "train_datagen=ImageDataGenerator(rescale=1./255,\n",
        "                                 shear_range=0.2,\n",
        "                                 zoom_range=0.2,\n",
        "                                 horizontal_flip=True)"
      ],
      "metadata": {
        "id": "wN_nBzrUiBti"
      },
      "execution_count": 10,
      "outputs": []
    },
    {
      "cell_type": "code",
      "source": [
        "test_datagen = ImageDataGenerator(rescale=1./255)"
      ],
      "metadata": {
        "id": "yZSKhdxeiOyt"
      },
      "execution_count": 11,
      "outputs": []
    },
    {
      "cell_type": "code",
      "source": [
        "train_generator = train_datagen.flow_from_directory('/content/train',\n",
        "                                                    target_size=(48,48),\n",
        "                                                    batch_size=32,\n",
        "                                                    class_mode='categorical')\n",
        "validation_generator=test_datagen.flow_from_directory('/content/test',\n",
        "                                                    target_size=(48,48),\n",
        "                                                    batch_size=32,\n",
        "                                                    class_mode='categorical')"
      ],
      "metadata": {
        "colab": {
          "base_uri": "https://localhost:8080/"
        },
        "id": "McZLMQ14iUo6",
        "outputId": "824004cf-c3dd-4edc-9b9e-6f6b2e4411cf"
      },
      "execution_count": 12,
      "outputs": [
        {
          "output_type": "stream",
          "name": "stdout",
          "text": [
            "Found 28709 images belonging to 7 classes.\n",
            "Found 7178 images belonging to 7 classes.\n"
          ]
        }
      ]
    },
    {
      "cell_type": "code",
      "source": [
        "emotions"
      ],
      "metadata": {
        "colab": {
          "base_uri": "https://localhost:8080/"
        },
        "id": "oXMh9-vbi2y-",
        "outputId": "9654d3b1-be54-41a3-ad1f-8027b4dad579"
      },
      "execution_count": 13,
      "outputs": [
        {
          "output_type": "execute_result",
          "data": {
            "text/plain": [
              "['angry', 'disgust', 'fear', 'happy', 'neutral', 'sad', 'surprise']"
            ]
          },
          "metadata": {},
          "execution_count": 13
        }
      ]
    },
    {
      "cell_type": "code",
      "source": [
        "len(train_generator)"
      ],
      "metadata": {
        "colab": {
          "base_uri": "https://localhost:8080/"
        },
        "id": "OR2YfOyUi7uh",
        "outputId": "07be0ff4-b563-4280-fe6d-1c3075991d54"
      },
      "execution_count": 14,
      "outputs": [
        {
          "output_type": "execute_result",
          "data": {
            "text/plain": [
              "898"
            ]
          },
          "metadata": {},
          "execution_count": 14
        }
      ]
    },
    {
      "cell_type": "code",
      "source": [
        "print(f'Number of batch: {len(train_generator)}')\n",
        "print(f'Number of batch: {len(validation_generator)}')"
      ],
      "metadata": {
        "colab": {
          "base_uri": "https://localhost:8080/"
        },
        "id": "7009WZ47i9wE",
        "outputId": "5853b981-b7fb-4c80-c2c5-5c92601623f3"
      },
      "execution_count": 15,
      "outputs": [
        {
          "output_type": "stream",
          "name": "stdout",
          "text": [
            "Number of batch: 898\n",
            "Number of batch: 225\n"
          ]
        }
      ]
    },
    {
      "cell_type": "code",
      "source": [
        "x_train, y_train = next(train_generator)"
      ],
      "metadata": {
        "id": "3pqJ2FojjJQR"
      },
      "execution_count": 16,
      "outputs": []
    },
    {
      "cell_type": "code",
      "source": [
        "y_train[:5]"
      ],
      "metadata": {
        "colab": {
          "base_uri": "https://localhost:8080/"
        },
        "id": "2XZFxkVVjOJV",
        "outputId": "eb5de454-6147-43f7-b138-7da8ec80ab17"
      },
      "execution_count": 17,
      "outputs": [
        {
          "output_type": "execute_result",
          "data": {
            "text/plain": [
              "array([[0., 0., 0., 1., 0., 0., 0.],\n",
              "       [0., 0., 0., 1., 0., 0., 0.],\n",
              "       [0., 0., 0., 0., 0., 1., 0.],\n",
              "       [1., 0., 0., 0., 0., 0., 0.],\n",
              "       [0., 0., 0., 1., 0., 0., 0.]], dtype=float32)"
            ]
          },
          "metadata": {},
          "execution_count": 17
        }
      ]
    },
    {
      "cell_type": "code",
      "source": [
        "x_train.shape\n"
      ],
      "metadata": {
        "colab": {
          "base_uri": "https://localhost:8080/"
        },
        "id": "8hXrGniIjjzp",
        "outputId": "6bf7745c-bab6-4865-af16-a9164e06a3fc"
      },
      "execution_count": 18,
      "outputs": [
        {
          "output_type": "execute_result",
          "data": {
            "text/plain": [
              "(32, 48, 48, 3)"
            ]
          },
          "metadata": {},
          "execution_count": 18
        }
      ]
    },
    {
      "cell_type": "code",
      "source": [
        "y_train.shape"
      ],
      "metadata": {
        "colab": {
          "base_uri": "https://localhost:8080/"
        },
        "id": "qMDMOyc0jmB6",
        "outputId": "900dac14-7b2d-45d9-db8b-1c82bef6266f"
      },
      "execution_count": 19,
      "outputs": [
        {
          "output_type": "execute_result",
          "data": {
            "text/plain": [
              "(32, 7)"
            ]
          },
          "metadata": {},
          "execution_count": 19
        }
      ]
    },
    {
      "cell_type": "code",
      "source": [
        "plt.figure(figsize=(10,2))\n",
        "plt.imshow(x_train[3])"
      ],
      "metadata": {
        "colab": {
          "base_uri": "https://localhost:8080/",
          "height": 235
        },
        "id": "KuN7k0sujovt",
        "outputId": "89be0514-82d3-484b-e670-960739f2bdf8"
      },
      "execution_count": 20,
      "outputs": [
        {
          "output_type": "execute_result",
          "data": {
            "text/plain": [
              "<matplotlib.image.AxesImage at 0x7a78592d0850>"
            ]
          },
          "metadata": {},
          "execution_count": 20
        },
        {
          "output_type": "display_data",
          "data": {
            "text/plain": [
              "<Figure size 1000x200 with 1 Axes>"
            ],
            "image/png": "[encoded data removed]"
          },
          "metadata": {}
        }
      ]
    },
    {
      "cell_type": "code",
      "source": [
        "emotions[np.argmax(y_train[3])]"
      ],
      "metadata": {
        "colab": {
          "base_uri": "https://localhost:8080/",
          "height": 36
        },
        "id": "ykttGUaCjqaV",
        "outputId": "5b58eeb8-e6d0-4cbe-992f-0ec03c0dd5d3"
      },
      "execution_count": 21,
      "outputs": [
        {
          "output_type": "execute_result",
          "data": {
            "text/plain": [
              "'angry'"
            ],
            "application/vnd.google.colaboratory.intrinsic+json": {
              "type": "string"
            }
          },
          "metadata": {},
          "execution_count": 21
        }
      ]
    },
    {
      "cell_type": "code",
      "source": [
        "for i in range(5):\n",
        "  plt.figure(figsize=(10,2))\n",
        "  plt.imshow(x_train[i])\n",
        "  print(emotions[np.argmax(y_train[i])])"
      ],
      "metadata": {
        "colab": {
          "base_uri": "https://localhost:8080/",
          "height": 1000
        },
        "id": "Tf1IvD4ykNfL",
        "outputId": "da773878-4a1d-4495-e114-96ac880dd36e"
      },
      "execution_count": 22,
      "outputs": [
        {
          "output_type": "stream",
          "name": "stdout",
          "text": [
            "happy\n",
            "happy\n",
            "sad\n",
            "angry\n",
            "happy\n"
          ]
        },
        {
          "output_type": "display_data",
          "data": {
            "text/plain": [
              "<Figure size 1000x200 with 1 Axes>"
            ],
            "image/png": "[encoded data removed]"
          },
          "metadata": {}
        },
        {
          "output_type": "display_data",
          "data": {
            "text/plain": [
              "<Figure size 1000x200 with 1 Axes>"
            ],
            "image/png": "[encoded data removed]"
          },
          "metadata": {}
        },
        {
          "output_type": "display_data",
          "data": {
            "text/plain": [
              "<Figure size 1000x200 with 1 Axes>"
            ],
            "image/png": "[encoded data removed]"
          },
          "metadata": {}
        },
        {
          "output_type": "display_data",
          "data": {
            "text/plain": [
              "<Figure size 1000x200 with 1 Axes>"
            ],
            "image/png": "[encoded data removed]"
          },
          "metadata": {}
        },
        {
          "output_type": "display_data",
          "data": {
            "text/plain": [
              "<Figure size 1000x200 with 1 Axes>"
            ],
            "image/png": "[encoded data removed]"
          },
          "metadata": {}
        }
      ]
    },
    {
      "cell_type": "code",
      "source": [
        "model = Sequential()\n",
        "\n",
        "model.add(Conv2D(32, kernel_size=(3,3),strides=1,padding='valid',activation='relu',input_shape=(48,48,3))),\n",
        "model.add(BatchNormalization()),\n",
        "model.add(MaxPooling2D(pool_size=(2,2),strides=2,padding='valid')),\n",
        "\n",
        "model.add(Conv2D(64, kernel_size=(3,3),strides=1,padding='valid',activation='relu',input_shape=(48,48,3))),\n",
        "model.add(BatchNormalization()),\n",
        "model.add(MaxPooling2D(pool_size=(2,2),strides=2,padding='valid')),\n",
        "\n",
        "model.add(Conv2D(128, kernel_size=(3,3),strides=1,padding='valid',activation='relu',input_shape=(48,48,3))),\n",
        "model.add(BatchNormalization()),\n",
        "model.add(MaxPooling2D(pool_size=(2,2),strides=2,padding='valid')),\n",
        "\n",
        "model.add(Reshape((16, 128)))\n",
        "model.add(LSTM(64, return_sequences=True)),  # Return sequences for another LSTM layer\n",
        "model.add(LSTM(64))  # Final LSTM layer\n",
        "\n",
        "model.add(Dense(128,activation='relu')),\n",
        "model.add(Dense(64,activation='relu')),\n",
        "model.add(Dense(7,activation='softmax'))\n",
        "\n"
      ],
      "metadata": {
        "colab": {
          "base_uri": "https://localhost:8080/"
        },
        "id": "0SLnUMRekVHm",
        "outputId": "0b121d40-a44e-40d3-e2b4-6e83da447192"
      },
      "execution_count": 23,
      "outputs": [
        {
          "output_type": "stream",
          "name": "stderr",
          "text": [
            "/usr/local/lib/python3.10/dist-packages/keras/src/layers/convolutional/base_conv.py:107: UserWarning: Do not pass an `input_shape`/`input_dim` argument to a layer. When using Sequential models, prefer using an `Input(shape)` object as the first layer in the model instead.\n",
            "  super().__init__(activity_regularizer=activity_regularizer, **kwargs)\n"
          ]
        }
      ]
    },
    {
      "cell_type": "code",
      "source": [
        "model.summary()"
      ],
      "metadata": {
        "colab": {
          "base_uri": "https://localhost:8080/",
          "height": 657
        },
        "id": "YWwnjL8Xn54N",
        "outputId": "c510ffd9-12df-41fe-b5d5-c4c27faf318f"
      },
      "execution_count": 24,
      "outputs": [
        {
          "output_type": "display_data",
          "data": {
            "text/plain": [
              "\u001b[1mModel: \"sequential\"\u001b[0m\n"
            ],
            "text/html": [
              "<pre style=\"white-space:pre;overflow-x:auto;line-height:normal;font-family:Menlo,'DejaVu Sans Mono',consolas,'Courier New',monospace\"><span style=\"font-weight: bold\">Model: \"sequential\"</span>\n",
              "</pre>\n"
            ]
          },
          "metadata": {}
        },
        {
          "output_type": "display_data",
          "data": {
            "text/plain": [
              "┏━━━━━━━━━━━━━━━━━━━━━━━━━━━━━━━━━━━━━━┳━━━━━━━━━━━━━━━━━━━━━━━━━━━━━┳━━━━━━━━━━━━━━━━━┓\n",
              "┃\u001b[1m \u001b[0m\u001b[1mLayer (type)                        \u001b[0m\u001b[1m \u001b[0m┃\u001b[1m \u001b[0m\u001b[1mOutput Shape               \u001b[0m\u001b[1m \u001b[0m┃\u001b[1m \u001b[0m\u001b[1m        Param #\u001b[0m\u001b[1m \u001b[0m┃\n",
              "┡━━━━━━━━━━━━━━━━━━━━━━━━━━━━━━━━━━━━━━╇━━━━━━━━━━━━━━━━━━━━━━━━━━━━━╇━━━━━━━━━━━━━━━━━┩\n",
              "│ conv2d (\u001b[38;5;33mConv2D\u001b[0m)                      │ (\u001b[38;5;45mNone\u001b[0m, \u001b[38;5;34m46\u001b[0m, \u001b[38;5;34m46\u001b[0m, \u001b[38;5;34m32\u001b[0m)          │             \u001b[38;5;34m896\u001b[0m │\n",
              "├──────────────────────────────────────┼─────────────────────────────┼─────────────────┤\n",
              "│ batch_normalization                  │ (\u001b[38;5;45mNone\u001b[0m, \u001b[38;5;34m46\u001b[0m, \u001b[38;5;34m46\u001b[0m, \u001b[38;5;34m32\u001b[0m)          │             \u001b[38;5;34m128\u001b[0m │\n",
              "│ (\u001b[38;5;33mBatchNormalization\u001b[0m)                 │                             │                 │\n",
              "├──────────────────────────────────────┼─────────────────────────────┼─────────────────┤\n",
              "│ max_pooling2d (\u001b[38;5;33mMaxPooling2D\u001b[0m)         │ (\u001b[38;5;45mNone\u001b[0m, \u001b[38;5;34m23\u001b[0m, \u001b[38;5;34m23\u001b[0m, \u001b[38;5;34m32\u001b[0m)          │               \u001b[38;5;34m0\u001b[0m │\n",
              "├──────────────────────────────────────┼─────────────────────────────┼─────────────────┤\n",
              "│ conv2d_1 (\u001b[38;5;33mConv2D\u001b[0m)                    │ (\u001b[38;5;45mNone\u001b[0m, \u001b[38;5;34m21\u001b[0m, \u001b[38;5;34m21\u001b[0m, \u001b[38;5;34m64\u001b[0m)          │          \u001b[38;5;34m18,496\u001b[0m │\n",
              "├──────────────────────────────────────┼─────────────────────────────┼─────────────────┤\n",
              "│ batch_normalization_1                │ (\u001b[38;5;45mNone\u001b[0m, \u001b[38;5;34m21\u001b[0m, \u001b[38;5;34m21\u001b[0m, \u001b[38;5;34m64\u001b[0m)          │             \u001b[38;5;34m256\u001b[0m │\n",
              "│ (\u001b[38;5;33mBatchNormalization\u001b[0m)                 │                             │                 │\n",
              "├──────────────────────────────────────┼─────────────────────────────┼─────────────────┤\n",
              "│ max_pooling2d_1 (\u001b[38;5;33mMaxPooling2D\u001b[0m)       │ (\u001b[38;5;45mNone\u001b[0m, \u001b[38;5;34m10\u001b[0m, \u001b[38;5;34m10\u001b[0m, \u001b[38;5;34m64\u001b[0m)          │               \u001b[38;5;34m0\u001b[0m │\n",
              "├──────────────────────────────────────┼─────────────────────────────┼─────────────────┤\n",
              "│ conv2d_2 (\u001b[38;5;33mConv2D\u001b[0m)                    │ (\u001b[38;5;45mNone\u001b[0m, \u001b[38;5;34m8\u001b[0m, \u001b[38;5;34m8\u001b[0m, \u001b[38;5;34m128\u001b[0m)           │          \u001b[38;5;34m73,856\u001b[0m │\n",
              "├──────────────────────────────────────┼─────────────────────────────┼─────────────────┤\n",
              "│ batch_normalization_2                │ (\u001b[38;5;45mNone\u001b[0m, \u001b[38;5;34m8\u001b[0m, \u001b[38;5;34m8\u001b[0m, \u001b[38;5;34m128\u001b[0m)           │             \u001b[38;5;34m512\u001b[0m │\n",
              "│ (\u001b[38;5;33mBatchNormalization\u001b[0m)                 │                             │                 │\n",
              "├──────────────────────────────────────┼─────────────────────────────┼─────────────────┤\n",
              "│ max_pooling2d_2 (\u001b[38;5;33mMaxPooling2D\u001b[0m)       │ (\u001b[38;5;45mNone\u001b[0m, \u001b[38;5;34m4\u001b[0m, \u001b[38;5;34m4\u001b[0m, \u001b[38;5;34m128\u001b[0m)           │               \u001b[38;5;34m0\u001b[0m │\n",
              "├──────────────────────────────────────┼─────────────────────────────┼─────────────────┤\n",
              "│ reshape (\u001b[38;5;33mReshape\u001b[0m)                    │ (\u001b[38;5;45mNone\u001b[0m, \u001b[38;5;34m16\u001b[0m, \u001b[38;5;34m128\u001b[0m)             │               \u001b[38;5;34m0\u001b[0m │\n",
              "├──────────────────────────────────────┼─────────────────────────────┼─────────────────┤\n",
              "│ lstm (\u001b[38;5;33mLSTM\u001b[0m)                          │ (\u001b[38;5;45mNone\u001b[0m, \u001b[38;5;34m16\u001b[0m, \u001b[38;5;34m64\u001b[0m)              │          \u001b[38;5;34m49,408\u001b[0m │\n",
              "├──────────────────────────────────────┼─────────────────────────────┼─────────────────┤\n",
              "│ lstm_1 (\u001b[38;5;33mLSTM\u001b[0m)                        │ (\u001b[38;5;45mNone\u001b[0m, \u001b[38;5;34m64\u001b[0m)                  │          \u001b[38;5;34m33,024\u001b[0m │\n",
              "├──────────────────────────────────────┼─────────────────────────────┼─────────────────┤\n",
              "│ dense (\u001b[38;5;33mDense\u001b[0m)                        │ (\u001b[38;5;45mNone\u001b[0m, \u001b[38;5;34m128\u001b[0m)                 │           \u001b[38;5;34m8,320\u001b[0m │\n",
              "├──────────────────────────────────────┼─────────────────────────────┼─────────────────┤\n",
              "│ dense_1 (\u001b[38;5;33mDense\u001b[0m)                      │ (\u001b[38;5;45mNone\u001b[0m, \u001b[38;5;34m64\u001b[0m)                  │           \u001b[38;5;34m8,256\u001b[0m │\n",
              "├──────────────────────────────────────┼─────────────────────────────┼─────────────────┤\n",
              "│ dense_2 (\u001b[38;5;33mDense\u001b[0m)                      │ (\u001b[38;5;45mNone\u001b[0m, \u001b[38;5;34m7\u001b[0m)                   │             \u001b[38;5;34m455\u001b[0m │\n",
              "└──────────────────────────────────────┴─────────────────────────────┴─────────────────┘\n"
            ],
            "text/html": [
              "<pre style=\"white-space:pre;overflow-x:auto;line-height:normal;font-family:Menlo,'DejaVu Sans Mono',consolas,'Courier New',monospace\">┏━━━━━━━━━━━━━━━━━━━━━━━━━━━━━━━━━━━━━━┳━━━━━━━━━━━━━━━━━━━━━━━━━━━━━┳━━━━━━━━━━━━━━━━━┓\n",
              "┃<span style=\"font-weight: bold\"> Layer (type)                         </span>┃<span style=\"font-weight: bold\"> Output Shape                </span>┃<span style=\"font-weight: bold\">         Param # </span>┃\n",
              "┡━━━━━━━━━━━━━━━━━━━━━━━━━━━━━━━━━━━━━━╇━━━━━━━━━━━━━━━━━━━━━━━━━━━━━╇━━━━━━━━━━━━━━━━━┩\n",
              "│ conv2d (<span style=\"color: #0087ff; text-decoration-color: #0087ff\">Conv2D</span>)                      │ (<span style=\"color: #00d7ff; text-decoration-color: #00d7ff\">None</span>, <span style=\"color: #00af00; text-decoration-color: #00af00\">46</span>, <span style=\"color: #00af00; text-decoration-color: #00af00\">46</span>, <span style=\"color: #00af00; text-decoration-color: #00af00\">32</span>)          │             <span style=\"color: #00af00; text-decoration-color: #00af00\">896</span> │\n",
              "├──────────────────────────────────────┼─────────────────────────────┼─────────────────┤\n",
              "│ batch_normalization                  │ (<span style=\"color: #00d7ff; text-decoration-color: #00d7ff\">None</span>, <span style=\"color: #00af00; text-decoration-color: #00af00\">46</span>, <span style=\"color: #00af00; text-decoration-color: #00af00\">46</span>, <span style=\"color: #00af00; text-decoration-color: #00af00\">32</span>)          │             <span style=\"color: #00af00; text-decoration-color: #00af00\">128</span> │\n",
              "│ (<span style=\"color: #0087ff; text-decoration-color: #0087ff\">BatchNormalization</span>)                 │                             │                 │\n",
              "├──────────────────────────────────────┼─────────────────────────────┼─────────────────┤\n",
              "│ max_pooling2d (<span style=\"color: #0087ff; text-decoration-color: #0087ff\">MaxPooling2D</span>)         │ (<span style=\"color: #00d7ff; text-decoration-color: #00d7ff\">None</span>, <span style=\"color: #00af00; text-decoration-color: #00af00\">23</span>, <span style=\"color: #00af00; text-decoration-color: #00af00\">23</span>, <span style=\"color: #00af00; text-decoration-color: #00af00\">32</span>)          │               <span style=\"color: #00af00; text-decoration-color: #00af00\">0</span> │\n",
              "├──────────────────────────────────────┼─────────────────────────────┼─────────────────┤\n",
              "│ conv2d_1 (<span style=\"color: #0087ff; text-decoration-color: #0087ff\">Conv2D</span>)                    │ (<span style=\"color: #00d7ff; text-decoration-color: #00d7ff\">None</span>, <span style=\"color: #00af00; text-decoration-color: #00af00\">21</span>, <span style=\"color: #00af00; text-decoration-color: #00af00\">21</span>, <span style=\"color: #00af00; text-decoration-color: #00af00\">64</span>)          │          <span style=\"color: #00af00; text-decoration-color: #00af00\">18,496</span> │\n",
              "├──────────────────────────────────────┼─────────────────────────────┼─────────────────┤\n",
              "│ batch_normalization_1                │ (<span style=\"color: #00d7ff; text-decoration-color: #00d7ff\">None</span>, <span style=\"color: #00af00; text-decoration-color: #00af00\">21</span>, <span style=\"color: #00af00; text-decoration-color: #00af00\">21</span>, <span style=\"color: #00af00; text-decoration-color: #00af00\">64</span>)          │             <span style=\"color: #00af00; text-decoration-color: #00af00\">256</span> │\n",
              "│ (<span style=\"color: #0087ff; text-decoration-color: #0087ff\">BatchNormalization</span>)                 │                             │                 │\n",
              "├──────────────────────────────────────┼─────────────────────────────┼─────────────────┤\n",
              "│ max_pooling2d_1 (<span style=\"color: #0087ff; text-decoration-color: #0087ff\">MaxPooling2D</span>)       │ (<span style=\"color: #00d7ff; text-decoration-color: #00d7ff\">None</span>, <span style=\"color: #00af00; text-decoration-color: #00af00\">10</span>, <span style=\"color: #00af00; text-decoration-color: #00af00\">10</span>, <span style=\"color: #00af00; text-decoration-color: #00af00\">64</span>)          │               <span style=\"color: #00af00; text-decoration-color: #00af00\">0</span> │\n",
              "├──────────────────────────────────────┼─────────────────────────────┼─────────────────┤\n",
              "│ conv2d_2 (<span style=\"color: #0087ff; text-decoration-color: #0087ff\">Conv2D</span>)                    │ (<span style=\"color: #00d7ff; text-decoration-color: #00d7ff\">None</span>, <span style=\"color: #00af00; text-decoration-color: #00af00\">8</span>, <span style=\"color: #00af00; text-decoration-color: #00af00\">8</span>, <span style=\"color: #00af00; text-decoration-color: #00af00\">128</span>)           │          <span style=\"color: #00af00; text-decoration-color: #00af00\">73,856</span> │\n",
              "├──────────────────────────────────────┼─────────────────────────────┼─────────────────┤\n",
              "│ batch_normalization_2                │ (<span style=\"color: #00d7ff; text-decoration-color: #00d7ff\">None</span>, <span style=\"color: #00af00; text-decoration-color: #00af00\">8</span>, <span style=\"color: #00af00; text-decoration-color: #00af00\">8</span>, <span style=\"color: #00af00; text-decoration-color: #00af00\">128</span>)           │             <span style=\"color: #00af00; text-decoration-color: #00af00\">512</span> │\n",
              "│ (<span style=\"color: #0087ff; text-decoration-color: #0087ff\">BatchNormalization</span>)                 │                             │                 │\n",
              "├──────────────────────────────────────┼─────────────────────────────┼─────────────────┤\n",
              "│ max_pooling2d_2 (<span style=\"color: #0087ff; text-decoration-color: #0087ff\">MaxPooling2D</span>)       │ (<span style=\"color: #00d7ff; text-decoration-color: #00d7ff\">None</span>, <span style=\"color: #00af00; text-decoration-color: #00af00\">4</span>, <span style=\"color: #00af00; text-decoration-color: #00af00\">4</span>, <span style=\"color: #00af00; text-decoration-color: #00af00\">128</span>)           │               <span style=\"color: #00af00; text-decoration-color: #00af00\">0</span> │\n",
              "├──────────────────────────────────────┼─────────────────────────────┼─────────────────┤\n",
              "│ reshape (<span style=\"color: #0087ff; text-decoration-color: #0087ff\">Reshape</span>)                    │ (<span style=\"color: #00d7ff; text-decoration-color: #00d7ff\">None</span>, <span style=\"color: #00af00; text-decoration-color: #00af00\">16</span>, <span style=\"color: #00af00; text-decoration-color: #00af00\">128</span>)             │               <span style=\"color: #00af00; text-decoration-color: #00af00\">0</span> │\n",
              "├──────────────────────────────────────┼─────────────────────────────┼─────────────────┤\n",
              "│ lstm (<span style=\"color: #0087ff; text-decoration-color: #0087ff\">LSTM</span>)                          │ (<span style=\"color: #00d7ff; text-decoration-color: #00d7ff\">None</span>, <span style=\"color: #00af00; text-decoration-color: #00af00\">16</span>, <span style=\"color: #00af00; text-decoration-color: #00af00\">64</span>)              │          <span style=\"color: #00af00; text-decoration-color: #00af00\">49,408</span> │\n",
              "├──────────────────────────────────────┼─────────────────────────────┼─────────────────┤\n",
              "│ lstm_1 (<span style=\"color: #0087ff; text-decoration-color: #0087ff\">LSTM</span>)                        │ (<span style=\"color: #00d7ff; text-decoration-color: #00d7ff\">None</span>, <span style=\"color: #00af00; text-decoration-color: #00af00\">64</span>)                  │          <span style=\"color: #00af00; text-decoration-color: #00af00\">33,024</span> │\n",
              "├──────────────────────────────────────┼─────────────────────────────┼─────────────────┤\n",
              "│ dense (<span style=\"color: #0087ff; text-decoration-color: #0087ff\">Dense</span>)                        │ (<span style=\"color: #00d7ff; text-decoration-color: #00d7ff\">None</span>, <span style=\"color: #00af00; text-decoration-color: #00af00\">128</span>)                 │           <span style=\"color: #00af00; text-decoration-color: #00af00\">8,320</span> │\n",
              "├──────────────────────────────────────┼─────────────────────────────┼─────────────────┤\n",
              "│ dense_1 (<span style=\"color: #0087ff; text-decoration-color: #0087ff\">Dense</span>)                      │ (<span style=\"color: #00d7ff; text-decoration-color: #00d7ff\">None</span>, <span style=\"color: #00af00; text-decoration-color: #00af00\">64</span>)                  │           <span style=\"color: #00af00; text-decoration-color: #00af00\">8,256</span> │\n",
              "├──────────────────────────────────────┼─────────────────────────────┼─────────────────┤\n",
              "│ dense_2 (<span style=\"color: #0087ff; text-decoration-color: #0087ff\">Dense</span>)                      │ (<span style=\"color: #00d7ff; text-decoration-color: #00d7ff\">None</span>, <span style=\"color: #00af00; text-decoration-color: #00af00\">7</span>)                   │             <span style=\"color: #00af00; text-decoration-color: #00af00\">455</span> │\n",
              "└──────────────────────────────────────┴─────────────────────────────┴─────────────────┘\n",
              "</pre>\n"
            ]
          },
          "metadata": {}
        },
        {
          "output_type": "display_data",
          "data": {
            "text/plain": [
              "\u001b[1m Total params: \u001b[0m\u001b[38;5;34m193,607\u001b[0m (756.28 KB)\n"
            ],
            "text/html": [
              "<pre style=\"white-space:pre;overflow-x:auto;line-height:normal;font-family:Menlo,'DejaVu Sans Mono',consolas,'Courier New',monospace\"><span style=\"font-weight: bold\"> Total params: </span><span style=\"color: #00af00; text-decoration-color: #00af00\">193,607</span> (756.28 KB)\n",
              "</pre>\n"
            ]
          },
          "metadata": {}
        },
        {
          "output_type": "display_data",
          "data": {
            "text/plain": [
              "\u001b[1m Trainable params: \u001b[0m\u001b[38;5;34m193,159\u001b[0m (754.53 KB)\n"
            ],
            "text/html": [
              "<pre style=\"white-space:pre;overflow-x:auto;line-height:normal;font-family:Menlo,'DejaVu Sans Mono',consolas,'Courier New',monospace\"><span style=\"font-weight: bold\"> Trainable params: </span><span style=\"color: #00af00; text-decoration-color: #00af00\">193,159</span> (754.53 KB)\n",
              "</pre>\n"
            ]
          },
          "metadata": {}
        },
        {
          "output_type": "display_data",
          "data": {
            "text/plain": [
              "\u001b[1m Non-trainable params: \u001b[0m\u001b[38;5;34m448\u001b[0m (1.75 KB)\n"
            ],
            "text/html": [
              "<pre style=\"white-space:pre;overflow-x:auto;line-height:normal;font-family:Menlo,'DejaVu Sans Mono',consolas,'Courier New',monospace\"><span style=\"font-weight: bold\"> Non-trainable params: </span><span style=\"color: #00af00; text-decoration-color: #00af00\">448</span> (1.75 KB)\n",
              "</pre>\n"
            ]
          },
          "metadata": {}
        }
      ]
    },
    {
      "cell_type": "code",
      "source": [
        "model.compile(optimizer='adam',loss='categorical_crossentropy',metrics=['accuracy'])\n"
      ],
      "metadata": {
        "id": "MJycJAUloTWe"
      },
      "execution_count": 25,
      "outputs": []
    },
    {
      "cell_type": "code",
      "source": [
        "total_samples_train = train_generator.samples\n",
        "\n",
        "# Define the batch size (make sure it's the same as in `flow_from_directory`)\n",
        "batch_size = train_generator.batch_size\n",
        "\n",
        "# Calculate steps_per_epoch\n",
        "steps_per_epoch = total_samples_train // batch_size"
      ],
      "metadata": {
        "id": "cN8bULlcu8F7"
      },
      "execution_count": 26,
      "outputs": []
    },
    {
      "cell_type": "code",
      "source": [
        "steps_per_epoch"
      ],
      "metadata": {
        "colab": {
          "base_uri": "https://localhost:8080/"
        },
        "id": "WtovElszojms",
        "outputId": "9047feea-48d3-42ac-9085-48ef6cec105f"
      },
      "execution_count": 27,
      "outputs": [
        {
          "output_type": "execute_result",
          "data": {
            "text/plain": [
              "897"
            ]
          },
          "metadata": {},
          "execution_count": 27
        }
      ]
    },
    {
      "cell_type": "code",
      "source": [
        "mod=model.fit(train_generator,steps_per_epoch=steps_per_epoch,epochs=10,validation_data=validation_generator)"
      ],
      "metadata": {
        "colab": {
          "base_uri": "https://localhost:8080/"
        },
        "id": "Pzmg_YUSooXq",
        "outputId": "7b0d7fb4-082b-4f24-a5d9-b7dc0fbe5113"
      },
      "execution_count": 28,
      "outputs": [
        {
          "output_type": "stream",
          "name": "stdout",
          "text": [
            "Epoch 1/10\n"
          ]
        },
        {
          "output_type": "stream",
          "name": "stderr",
          "text": [
            "/usr/local/lib/python3.10/dist-packages/keras/src/trainers/data_adapters/py_dataset_adapter.py:121: UserWarning: Your `PyDataset` class should call `super().__init__(**kwargs)` in its constructor. `**kwargs` can include `workers`, `use_multiprocessing`, `max_queue_size`. Do not pass these arguments to `fit()`, as they will be ignored.\n",
            "  self._warn_if_super_not_called()\n"
          ]
        },
        {
          "output_type": "stream",
          "name": "stdout",
          "text": [
            "\u001b[1m897/897\u001b[0m \u001b[32m━━━━━━━━━━━━━━━━━━━━\u001b[0m\u001b[37m\u001b[0m \u001b[1m59s\u001b[0m 55ms/step - accuracy: 0.3116 - loss: 1.6986 - val_accuracy: 0.3851 - val_loss: 1.5565\n",
            "Epoch 2/10\n",
            "\u001b[1m  1/897\u001b[0m \u001b[37m━━━━━━━━━━━━━━━━━━━━\u001b[0m \u001b[1m15s\u001b[0m 18ms/step - accuracy: 0.4375 - loss: 1.3857"
          ]
        },
        {
          "output_type": "stream",
          "name": "stderr",
          "text": [
            "/usr/lib/python3.10/contextlib.py:153: UserWarning: Your input ran out of data; interrupting training. Make sure that your dataset or generator can generate at least `steps_per_epoch * epochs` batches. You may need to use the `.repeat()` function when building your dataset.\n",
            "  self.gen.throw(typ, value, traceback)\n"
          ]
        },
        {
          "output_type": "stream",
          "name": "stdout",
          "text": [
            "\b\b\b\b\b\b\b\b\b\b\b\b\b\b\b\b\b\b\b\b\b\b\b\b\b\b\b\b\b\b\b\b\b\b\b\b\b\b\b\b\b\b\b\b\b\b\b\b\b\b\b\b\b\b\b\b\b\b\b\b\b\b\b\b\b\b\b\b\b\b\b\b\b\b\b\b\r\u001b[1m897/897\u001b[0m \u001b[32m━━━━━━━━━━━━━━━━━━━━\u001b[0m\u001b[37m\u001b[0m \u001b[1m3s\u001b[0m 3ms/step - accuracy: 0.4375 - loss: 1.3857 - val_accuracy: 0.3924 - val_loss: 1.5454\n",
            "Epoch 3/10\n",
            "\u001b[1m897/897\u001b[0m \u001b[32m━━━━━━━━━━━━━━━━━━━━\u001b[0m\u001b[37m\u001b[0m \u001b[1m47s\u001b[0m 52ms/step - accuracy: 0.4552 - loss: 1.4152 - val_accuracy: 0.2179 - val_loss: 1.9495\n",
            "Epoch 4/10\n",
            "\u001b[1m897/897\u001b[0m \u001b[32m━━━━━━━━━━━━━━━━━━━━\u001b[0m\u001b[37m\u001b[0m \u001b[1m3s\u001b[0m 3ms/step - accuracy: 0.3750 - loss: 1.3146 - val_accuracy: 0.2244 - val_loss: 1.9409\n",
            "Epoch 5/10\n",
            "\u001b[1m897/897\u001b[0m \u001b[32m━━━━━━━━━━━━━━━━━━━━\u001b[0m\u001b[37m\u001b[0m \u001b[1m79s\u001b[0m 52ms/step - accuracy: 0.5121 - loss: 1.2850 - val_accuracy: 0.4329 - val_loss: 1.4064\n",
            "Epoch 6/10\n",
            "\u001b[1m897/897\u001b[0m \u001b[32m━━━━━━━━━━━━━━━━━━━━\u001b[0m\u001b[37m\u001b[0m \u001b[1m3s\u001b[0m 3ms/step - accuracy: 0.5000 - loss: 1.3427 - val_accuracy: 0.4274 - val_loss: 1.4260\n",
            "Epoch 7/10\n",
            "\u001b[1m897/897\u001b[0m \u001b[32m━━━━━━━━━━━━━━━━━━━━\u001b[0m\u001b[37m\u001b[0m \u001b[1m78s\u001b[0m 50ms/step - accuracy: 0.5284 - loss: 1.2480 - val_accuracy: 0.4900 - val_loss: 1.3365\n",
            "Epoch 8/10\n",
            "\u001b[1m897/897\u001b[0m \u001b[32m━━━━━━━━━━━━━━━━━━━━\u001b[0m\u001b[37m\u001b[0m \u001b[1m3s\u001b[0m 3ms/step - accuracy: 0.5312 - loss: 1.3267 - val_accuracy: 0.4841 - val_loss: 1.3471\n",
            "Epoch 9/10\n",
            "\u001b[1m897/897\u001b[0m \u001b[32m━━━━━━━━━━━━━━━━━━━━\u001b[0m\u001b[37m\u001b[0m \u001b[1m44s\u001b[0m 49ms/step - accuracy: 0.5379 - loss: 1.1992 - val_accuracy: 0.5316 - val_loss: 1.2163\n",
            "Epoch 10/10\n",
            "\u001b[1m897/897\u001b[0m \u001b[32m━━━━━━━━━━━━━━━━━━━━\u001b[0m\u001b[37m\u001b[0m \u001b[1m3s\u001b[0m 3ms/step - accuracy: 0.6875 - loss: 1.1039 - val_accuracy: 0.5302 - val_loss: 1.2149\n"
          ]
        }
      ]
    },
    {
      "cell_type": "code",
      "source": [
        "plt.plot(mod.history['accuracy'], color='red', label='Training Accuracy')\n",
        "plt.plot(mod.history['val_accuracy'], color='blue', label='Test Accuracy')\n",
        "plt.legend()\n",
        "plt.show()"
      ],
      "metadata": {
        "id": "5zDcyypfo6zX",
        "colab": {
          "base_uri": "https://localhost:8080/",
          "height": 430
        },
        "outputId": "63b09b9f-7203-46d6-cc44-25db92966c98"
      },
      "execution_count": 29,
      "outputs": [
        {
          "output_type": "display_data",
          "data": {
            "text/plain": [
              "<Figure size 640x480 with 1 Axes>"
            ],
            "image/png": "[encoded data removed]"
          },
          "metadata": {}
        }
      ]
    },
    {
      "cell_type": "code",
      "source": [
        "plt.plot(mod.history['loss'], color='red', label='Training loss')\n",
        "plt.plot(mod.history['val_loss'], color='blue', label='Test loss')\n",
        "plt.legend()\n",
        "plt.show()"
      ],
      "metadata": {
        "id": "Mt6zBXpXpGND",
        "colab": {
          "base_uri": "https://localhost:8080/",
          "height": 430
        },
        "outputId": "713d56fb-ebbc-4625-ab90-3cc616b26ab7"
      },
      "execution_count": 30,
      "outputs": [
        {
          "output_type": "display_data",
          "data": {
            "text/plain": [
              "<Figure size 640x480 with 1 Axes>"
            ],
            "image/png": "[encoded data removed]"
          },
          "metadata": {}
        }
      ]
    },
    {
      "cell_type": "code",
      "source": [
        "mod=model.fit(train_generator,steps_per_epoch=steps_per_epoch,epochs=50,validation_data=validation_generator)"
      ],
      "metadata": {
        "id": "1eTk8q9YpTzk",
        "colab": {
          "base_uri": "https://localhost:8080/"
        },
        "outputId": "05d14750-cd28-40b5-d078-bc51ce434e5a"
      },
      "execution_count": 31,
      "outputs": [
        {
          "output_type": "stream",
          "name": "stdout",
          "text": [
            "Epoch 1/50\n",
            "\u001b[1m897/897\u001b[0m \u001b[32m━━━━━━━━━━━━━━━━━━━━\u001b[0m\u001b[37m\u001b[0m \u001b[1m45s\u001b[0m 50ms/step - accuracy: 0.5595 - loss: 1.1623 - val_accuracy: 0.5311 - val_loss: 1.2415\n",
            "Epoch 2/50\n",
            "\u001b[1m897/897\u001b[0m \u001b[32m━━━━━━━━━━━━━━━━━━━━\u001b[0m\u001b[37m\u001b[0m \u001b[1m3s\u001b[0m 3ms/step - accuracy: 0.5000 - loss: 1.3916 - val_accuracy: 0.5337 - val_loss: 1.2373\n",
            "Epoch 3/50\n",
            "\u001b[1m897/897\u001b[0m \u001b[32m━━━━━━━━━━━━━━━━━━━━\u001b[0m\u001b[37m\u001b[0m \u001b[1m81s\u001b[0m 52ms/step - accuracy: 0.5627 - loss: 1.1434 - val_accuracy: 0.5337 - val_loss: 1.2304\n",
            "Epoch 4/50\n",
            "\u001b[1m897/897\u001b[0m \u001b[32m━━━━━━━━━━━━━━━━━━━━\u001b[0m\u001b[37m\u001b[0m \u001b[1m3s\u001b[0m 3ms/step - accuracy: 0.5312 - loss: 1.0455 - val_accuracy: 0.5269 - val_loss: 1.2480\n",
            "Epoch 5/50\n",
            "\u001b[1m897/897\u001b[0m \u001b[32m━━━━━━━━━━━━━━━━━━━━\u001b[0m\u001b[37m\u001b[0m \u001b[1m76s\u001b[0m 49ms/step - accuracy: 0.5784 - loss: 1.1093 - val_accuracy: 0.5552 - val_loss: 1.1482\n",
            "Epoch 6/50\n",
            "\u001b[1m897/897\u001b[0m \u001b[32m━━━━━━━━━━━━━━━━━━━━\u001b[0m\u001b[37m\u001b[0m \u001b[1m3s\u001b[0m 3ms/step - accuracy: 0.5312 - loss: 1.0776 - val_accuracy: 0.5560 - val_loss: 1.1480\n",
            "Epoch 7/50\n",
            "\u001b[1m897/897\u001b[0m \u001b[32m━━━━━━━━━━━━━━━━━━━━\u001b[0m\u001b[37m\u001b[0m \u001b[1m45s\u001b[0m 50ms/step - accuracy: 0.5813 - loss: 1.0959 - val_accuracy: 0.5450 - val_loss: 1.1660\n",
            "Epoch 8/50\n",
            "\u001b[1m897/897\u001b[0m \u001b[32m━━━━━━━━━━━━━━━━━━━━\u001b[0m\u001b[37m\u001b[0m \u001b[1m2s\u001b[0m 3ms/step - accuracy: 0.6562 - loss: 0.9604 - val_accuracy: 0.5429 - val_loss: 1.1712\n",
            "Epoch 9/50\n",
            "\u001b[1m897/897\u001b[0m \u001b[32m━━━━━━━━━━━━━━━━━━━━\u001b[0m\u001b[37m\u001b[0m \u001b[1m44s\u001b[0m 49ms/step - accuracy: 0.5927 - loss: 1.0728 - val_accuracy: 0.5170 - val_loss: 1.3104\n",
            "Epoch 10/50\n",
            "\u001b[1m897/897\u001b[0m \u001b[32m━━━━━━━━━━━━━━━━━━━━\u001b[0m\u001b[37m\u001b[0m \u001b[1m4s\u001b[0m 4ms/step - accuracy: 0.5312 - loss: 1.2194 - val_accuracy: 0.5227 - val_loss: 1.2982\n",
            "Epoch 11/50\n",
            "\u001b[1m897/897\u001b[0m \u001b[32m━━━━━━━━━━━━━━━━━━━━\u001b[0m\u001b[37m\u001b[0m \u001b[1m44s\u001b[0m 49ms/step - accuracy: 0.5985 - loss: 1.0587 - val_accuracy: 0.4940 - val_loss: 1.3265\n",
            "Epoch 12/50\n",
            "\u001b[1m897/897\u001b[0m \u001b[32m━━━━━━━━━━━━━━━━━━━━\u001b[0m\u001b[37m\u001b[0m \u001b[1m2s\u001b[0m 3ms/step - accuracy: 0.5312 - loss: 1.0089 - val_accuracy: 0.4954 - val_loss: 1.3186\n",
            "Epoch 13/50\n",
            "\u001b[1m897/897\u001b[0m \u001b[32m━━━━━━━━━━━━━━━━━━━━\u001b[0m\u001b[37m\u001b[0m \u001b[1m81s\u001b[0m 50ms/step - accuracy: 0.6084 - loss: 1.0329 - val_accuracy: 0.5766 - val_loss: 1.1346\n",
            "Epoch 14/50\n",
            "\u001b[1m897/897\u001b[0m \u001b[32m━━━━━━━━━━━━━━━━━━━━\u001b[0m\u001b[37m\u001b[0m \u001b[1m3s\u001b[0m 3ms/step - accuracy: 0.4375 - loss: 1.3301 - val_accuracy: 0.5761 - val_loss: 1.1330\n",
            "Epoch 15/50\n",
            "\u001b[1m897/897\u001b[0m \u001b[32m━━━━━━━━━━━━━━━━━━━━\u001b[0m\u001b[37m\u001b[0m \u001b[1m81s\u001b[0m 52ms/step - accuracy: 0.6108 - loss: 1.0327 - val_accuracy: 0.5825 - val_loss: 1.0938\n",
            "Epoch 16/50\n",
            "\u001b[1m897/897\u001b[0m \u001b[32m━━━━━━━━━━━━━━━━━━━━\u001b[0m\u001b[37m\u001b[0m \u001b[1m2s\u001b[0m 3ms/step - accuracy: 0.6562 - loss: 1.1163 - val_accuracy: 0.5841 - val_loss: 1.0917\n",
            "Epoch 17/50\n",
            "\u001b[1m897/897\u001b[0m \u001b[32m━━━━━━━━━━━━━━━━━━━━\u001b[0m\u001b[37m\u001b[0m \u001b[1m44s\u001b[0m 49ms/step - accuracy: 0.6180 - loss: 1.0096 - val_accuracy: 0.5691 - val_loss: 1.1590\n",
            "Epoch 18/50\n",
            "\u001b[1m897/897\u001b[0m \u001b[32m━━━━━━━━━━━━━━━━━━━━\u001b[0m\u001b[37m\u001b[0m \u001b[1m5s\u001b[0m 6ms/step - accuracy: 0.5312 - loss: 1.0555 - val_accuracy: 0.5723 - val_loss: 1.1481\n",
            "Epoch 19/50\n",
            "\u001b[1m897/897\u001b[0m \u001b[32m━━━━━━━━━━━━━━━━━━━━\u001b[0m\u001b[37m\u001b[0m \u001b[1m78s\u001b[0m 50ms/step - accuracy: 0.6217 - loss: 0.9969 - val_accuracy: 0.5585 - val_loss: 1.1764\n",
            "Epoch 20/50\n",
            "\u001b[1m897/897\u001b[0m \u001b[32m━━━━━━━━━━━━━━━━━━━━\u001b[0m\u001b[37m\u001b[0m \u001b[1m3s\u001b[0m 3ms/step - accuracy: 0.5625 - loss: 1.1628 - val_accuracy: 0.5593 - val_loss: 1.1746\n",
            "Epoch 21/50\n",
            "\u001b[1m897/897\u001b[0m \u001b[32m━━━━━━━━━━━━━━━━━━━━\u001b[0m\u001b[37m\u001b[0m \u001b[1m81s\u001b[0m 52ms/step - accuracy: 0.6234 - loss: 0.9905 - val_accuracy: 0.5896 - val_loss: 1.0756\n",
            "Epoch 22/50\n",
            "\u001b[1m897/897\u001b[0m \u001b[32m━━━━━━━━━━━━━━━━━━━━\u001b[0m\u001b[37m\u001b[0m \u001b[1m3s\u001b[0m 3ms/step - accuracy: 0.6250 - loss: 0.9370 - val_accuracy: 0.5868 - val_loss: 1.0803\n",
            "Epoch 23/50\n",
            "\u001b[1m897/897\u001b[0m \u001b[32m━━━━━━━━━━━━━━━━━━━━\u001b[0m\u001b[37m\u001b[0m \u001b[1m48s\u001b[0m 53ms/step - accuracy: 0.6292 - loss: 0.9806 - val_accuracy: 0.5322 - val_loss: 1.2403\n",
            "Epoch 24/50\n",
            "\u001b[1m897/897\u001b[0m \u001b[32m━━━━━━━━━━━━━━━━━━━━\u001b[0m\u001b[37m\u001b[0m \u001b[1m3s\u001b[0m 3ms/step - accuracy: 0.4688 - loss: 1.2940 - val_accuracy: 0.5325 - val_loss: 1.2326\n",
            "Epoch 25/50\n",
            "\u001b[1m897/897\u001b[0m \u001b[32m━━━━━━━━━━━━━━━━━━━━\u001b[0m\u001b[37m\u001b[0m \u001b[1m76s\u001b[0m 49ms/step - accuracy: 0.6320 - loss: 0.9718 - val_accuracy: 0.5977 - val_loss: 1.0687\n",
            "Epoch 26/50\n",
            "\u001b[1m897/897\u001b[0m \u001b[32m━━━━━━━━━━━━━━━━━━━━\u001b[0m\u001b[37m\u001b[0m \u001b[1m2s\u001b[0m 3ms/step - accuracy: 0.7500 - loss: 0.8236 - val_accuracy: 0.5967 - val_loss: 1.0688\n",
            "Epoch 27/50\n",
            "\u001b[1m897/897\u001b[0m \u001b[32m━━━━━━━━━━━━━━━━━━━━\u001b[0m\u001b[37m\u001b[0m \u001b[1m81s\u001b[0m 51ms/step - accuracy: 0.6388 - loss: 0.9522 - val_accuracy: 0.5932 - val_loss: 1.1002\n",
            "Epoch 28/50\n",
            "\u001b[1m897/897\u001b[0m \u001b[32m━━━━━━━━━━━━━━━━━━━━\u001b[0m\u001b[37m\u001b[0m \u001b[1m3s\u001b[0m 3ms/step - accuracy: 0.5000 - loss: 1.1973 - val_accuracy: 0.5919 - val_loss: 1.1142\n",
            "Epoch 29/50\n",
            "\u001b[1m897/897\u001b[0m \u001b[32m━━━━━━━━━━━━━━━━━━━━\u001b[0m\u001b[37m\u001b[0m \u001b[1m47s\u001b[0m 52ms/step - accuracy: 0.6396 - loss: 0.9465 - val_accuracy: 0.5954 - val_loss: 1.0778\n",
            "Epoch 30/50\n",
            "\u001b[1m897/897\u001b[0m \u001b[32m━━━━━━━━━━━━━━━━━━━━\u001b[0m\u001b[37m\u001b[0m \u001b[1m5s\u001b[0m 6ms/step - accuracy: 0.6562 - loss: 1.0711 - val_accuracy: 0.5961 - val_loss: 1.0774\n",
            "Epoch 31/50\n",
            "\u001b[1m897/897\u001b[0m \u001b[32m━━━━━━━━━━━━━━━━━━━━\u001b[0m\u001b[37m\u001b[0m \u001b[1m78s\u001b[0m 53ms/step - accuracy: 0.6460 - loss: 0.9298 - val_accuracy: 0.5914 - val_loss: 1.0775\n",
            "Epoch 32/50\n",
            "\u001b[1m897/897\u001b[0m \u001b[32m━━━━━━━━━━━━━━━━━━━━\u001b[0m\u001b[37m\u001b[0m \u001b[1m3s\u001b[0m 4ms/step - accuracy: 0.5000 - loss: 0.9894 - val_accuracy: 0.5901 - val_loss: 1.0775\n",
            "Epoch 33/50\n",
            "\u001b[1m897/897\u001b[0m \u001b[32m━━━━━━━━━━━━━━━━━━━━\u001b[0m\u001b[37m\u001b[0m \u001b[1m78s\u001b[0m 52ms/step - accuracy: 0.6499 - loss: 0.9237 - val_accuracy: 0.6041 - val_loss: 1.0641\n",
            "Epoch 34/50\n",
            "\u001b[1m897/897\u001b[0m \u001b[32m━━━━━━━━━━━━━━━━━━━━\u001b[0m\u001b[37m\u001b[0m \u001b[1m3s\u001b[0m 3ms/step - accuracy: 0.4062 - loss: 1.2042 - val_accuracy: 0.6021 - val_loss: 1.0760\n",
            "Epoch 35/50\n",
            "\u001b[1m897/897\u001b[0m \u001b[32m━━━━━━━━━━━━━━━━━━━━\u001b[0m\u001b[37m\u001b[0m \u001b[1m78s\u001b[0m 51ms/step - accuracy: 0.6587 - loss: 0.9091 - val_accuracy: 0.5977 - val_loss: 1.0869\n",
            "Epoch 36/50\n",
            "\u001b[1m897/897\u001b[0m \u001b[32m━━━━━━━━━━━━━━━━━━━━\u001b[0m\u001b[37m\u001b[0m \u001b[1m3s\u001b[0m 3ms/step - accuracy: 0.5938 - loss: 1.0255 - val_accuracy: 0.5953 - val_loss: 1.0936\n",
            "Epoch 37/50\n",
            "\u001b[1m897/897\u001b[0m \u001b[32m━━━━━━━━━━━━━━━━━━━━\u001b[0m\u001b[37m\u001b[0m \u001b[1m46s\u001b[0m 51ms/step - accuracy: 0.6579 - loss: 0.9157 - val_accuracy: 0.5665 - val_loss: 1.1692\n",
            "Epoch 38/50\n",
            "\u001b[1m897/897\u001b[0m \u001b[32m━━━━━━━━━━━━━━━━━━━━\u001b[0m\u001b[37m\u001b[0m \u001b[1m3s\u001b[0m 3ms/step - accuracy: 0.7500 - loss: 0.8787 - val_accuracy: 0.5743 - val_loss: 1.1404\n",
            "Epoch 39/50\n",
            "\u001b[1m897/897\u001b[0m \u001b[32m━━━━━━━━━━━━━━━━━━━━\u001b[0m\u001b[37m\u001b[0m \u001b[1m47s\u001b[0m 52ms/step - accuracy: 0.6581 - loss: 0.9032 - val_accuracy: 0.6018 - val_loss: 1.0564\n",
            "Epoch 40/50\n",
            "\u001b[1m897/897\u001b[0m \u001b[32m━━━━━━━━━━━━━━━━━━━━\u001b[0m\u001b[37m\u001b[0m \u001b[1m3s\u001b[0m 3ms/step - accuracy: 0.5938 - loss: 0.8679 - val_accuracy: 0.6011 - val_loss: 1.0585\n",
            "Epoch 41/50\n",
            "\u001b[1m897/897\u001b[0m \u001b[32m━━━━━━━━━━━━━━━━━━━━\u001b[0m\u001b[37m\u001b[0m \u001b[1m48s\u001b[0m 53ms/step - accuracy: 0.6630 - loss: 0.8866 - val_accuracy: 0.5833 - val_loss: 1.1286\n",
            "Epoch 42/50\n",
            "\u001b[1m897/897\u001b[0m \u001b[32m━━━━━━━━━━━━━━━━━━━━\u001b[0m\u001b[37m\u001b[0m \u001b[1m2s\u001b[0m 3ms/step - accuracy: 0.5312 - loss: 1.0841 - val_accuracy: 0.5872 - val_loss: 1.1167\n",
            "Epoch 43/50\n",
            "\u001b[1m897/897\u001b[0m \u001b[32m━━━━━━━━━━━━━━━━━━━━\u001b[0m\u001b[37m\u001b[0m \u001b[1m77s\u001b[0m 50ms/step - accuracy: 0.6683 - loss: 0.8839 - val_accuracy: 0.6081 - val_loss: 1.0600\n",
            "Epoch 44/50\n",
            "\u001b[1m897/897\u001b[0m \u001b[32m━━━━━━━━━━━━━━━━━━━━\u001b[0m\u001b[37m\u001b[0m \u001b[1m3s\u001b[0m 3ms/step - accuracy: 0.6250 - loss: 0.8226 - val_accuracy: 0.6064 - val_loss: 1.0623\n",
            "Epoch 45/50\n",
            "\u001b[1m897/897\u001b[0m \u001b[32m━━━━━━━━━━━━━━━━━━━━\u001b[0m\u001b[37m\u001b[0m \u001b[1m47s\u001b[0m 53ms/step - accuracy: 0.6758 - loss: 0.8751 - val_accuracy: 0.5999 - val_loss: 1.0904\n",
            "Epoch 46/50\n",
            "\u001b[1m897/897\u001b[0m \u001b[32m━━━━━━━━━━━━━━━━━━━━\u001b[0m\u001b[37m\u001b[0m \u001b[1m3s\u001b[0m 3ms/step - accuracy: 0.6562 - loss: 0.9132 - val_accuracy: 0.6002 - val_loss: 1.1015\n",
            "Epoch 47/50\n",
            "\u001b[1m897/897\u001b[0m \u001b[32m━━━━━━━━━━━━━━━━━━━━\u001b[0m\u001b[37m\u001b[0m \u001b[1m84s\u001b[0m 58ms/step - accuracy: 0.6758 - loss: 0.8690 - val_accuracy: 0.6081 - val_loss: 1.0839\n",
            "Epoch 48/50\n",
            "\u001b[1m897/897\u001b[0m \u001b[32m━━━━━━━━━━━━━━━━━━━━\u001b[0m\u001b[37m\u001b[0m \u001b[1m3s\u001b[0m 3ms/step - accuracy: 0.7500 - loss: 0.6619 - val_accuracy: 0.6052 - val_loss: 1.0923\n",
            "Epoch 49/50\n",
            "\u001b[1m897/897\u001b[0m \u001b[32m━━━━━━━━━━━━━━━━━━━━\u001b[0m\u001b[37m\u001b[0m \u001b[1m50s\u001b[0m 56ms/step - accuracy: 0.6747 - loss: 0.8579 - val_accuracy: 0.5794 - val_loss: 1.1522\n",
            "Epoch 50/50\n",
            "\u001b[1m897/897\u001b[0m \u001b[32m━━━━━━━━━━━━━━━━━━━━\u001b[0m\u001b[37m\u001b[0m \u001b[1m5s\u001b[0m 6ms/step - accuracy: 0.6875 - loss: 0.8802 - val_accuracy: 0.5748 - val_loss: 1.1615\n"
          ]
        }
      ]
    },
    {
      "cell_type": "code",
      "source": [
        "plt.plot(mod.history['accuracy'], color='red', label='Training Accuracy')\n",
        "plt.plot(mod.history['val_accuracy'], color='blue', label='Test Accuracy')\n",
        "plt.legend()\n",
        "plt.show()"
      ],
      "metadata": {
        "id": "dD2QJkGUpda1",
        "colab": {
          "base_uri": "https://localhost:8080/",
          "height": 430
        },
        "outputId": "f4cac30a-3ae8-4c39-e56c-a67091c17675"
      },
      "execution_count": 32,
      "outputs": [
        {
          "output_type": "display_data",
          "data": {
            "text/plain": [
              "<Figure size 640x480 with 1 Axes>"
            ],
            "image/png": "[encoded data removed]"
          },
          "metadata": {}
        }
      ]
    },
    {
      "cell_type": "code",
      "source": [
        "plt.plot(mod.history['loss'], color='red', label='Training loss')\n",
        "plt.plot(mod.history['val_loss'], color='blue', label='Test loss')\n",
        "plt.legend()\n",
        "plt.show()"
      ],
      "metadata": {
        "id": "5JLlUNBEpfgE",
        "colab": {
          "base_uri": "https://localhost:8080/",
          "height": 430
        },
        "outputId": "b0585d66-c726-4acc-eda2-4f22f20f9fbb"
      },
      "execution_count": 33,
      "outputs": [
        {
          "output_type": "display_data",
          "data": {
            "text/plain": [
              "<Figure size 640x480 with 1 Axes>"
            ],
            "image/png": "[encoded data removed]"
          },
          "metadata": {}
        }
      ]
    },
    {
      "cell_type": "code",
      "source": [
        "mod=model.fit(train_generator,steps_per_epoch=steps_per_epoch,epochs=80,validation_data=validation_generator)"
      ],
      "metadata": {
        "id": "Tc6rWmixv-9I",
        "colab": {
          "base_uri": "https://localhost:8080/"
        },
        "outputId": "6550f764-fd16-43e2-a6d2-714c0021e686"
      },
      "execution_count": 34,
      "outputs": [
        {
          "output_type": "stream",
          "name": "stdout",
          "text": [
            "Epoch 1/80\n",
            "\u001b[1m897/897\u001b[0m \u001b[32m━━━━━━━━━━━━━━━━━━━━\u001b[0m\u001b[37m\u001b[0m \u001b[1m52s\u001b[0m 57ms/step - accuracy: 0.6765 - loss: 0.8557 - val_accuracy: 0.6106 - val_loss: 1.0724\n",
            "Epoch 2/80\n",
            "\u001b[1m897/897\u001b[0m \u001b[32m━━━━━━━━━━━━━━━━━━━━\u001b[0m\u001b[37m\u001b[0m \u001b[1m5s\u001b[0m 6ms/step - accuracy: 0.6250 - loss: 1.2715 - val_accuracy: 0.6073 - val_loss: 1.0804\n",
            "Epoch 3/80\n",
            "\u001b[1m897/897\u001b[0m \u001b[32m━━━━━━━━━━━━━━━━━━━━\u001b[0m\u001b[37m\u001b[0m \u001b[1m53s\u001b[0m 59ms/step - accuracy: 0.6881 - loss: 0.8329 - val_accuracy: 0.6158 - val_loss: 1.0561\n",
            "Epoch 4/80\n",
            "\u001b[1m897/897\u001b[0m \u001b[32m━━━━━━━━━━━━━━━━━━━━\u001b[0m\u001b[37m\u001b[0m \u001b[1m5s\u001b[0m 6ms/step - accuracy: 0.6250 - loss: 0.9205 - val_accuracy: 0.6152 - val_loss: 1.0581\n",
            "Epoch 5/80\n",
            "\u001b[1m897/897\u001b[0m \u001b[32m━━━━━━━━━━━━━━━━━━━━\u001b[0m\u001b[37m\u001b[0m \u001b[1m76s\u001b[0m 58ms/step - accuracy: 0.6843 - loss: 0.8378 - val_accuracy: 0.6176 - val_loss: 1.0724\n",
            "Epoch 6/80\n",
            "\u001b[1m897/897\u001b[0m \u001b[32m━━━━━━━━━━━━━━━━━━━━\u001b[0m\u001b[37m\u001b[0m \u001b[1m3s\u001b[0m 3ms/step - accuracy: 0.8438 - loss: 0.6783 - val_accuracy: 0.6184 - val_loss: 1.0712\n",
            "Epoch 7/80\n",
            "\u001b[1m897/897\u001b[0m \u001b[32m━━━━━━━━━━━━━━━━━━━━\u001b[0m\u001b[37m\u001b[0m \u001b[1m53s\u001b[0m 58ms/step - accuracy: 0.6922 - loss: 0.8185 - val_accuracy: 0.5890 - val_loss: 1.1162\n",
            "Epoch 8/80\n",
            "\u001b[1m897/897\u001b[0m \u001b[32m━━━━━━━━━━━━━━━━━━━━\u001b[0m\u001b[37m\u001b[0m \u001b[1m4s\u001b[0m 5ms/step - accuracy: 0.6250 - loss: 0.9277 - val_accuracy: 0.5885 - val_loss: 1.1087\n",
            "Epoch 9/80\n",
            "\u001b[1m897/897\u001b[0m \u001b[32m━━━━━━━━━━━━━━━━━━━━\u001b[0m\u001b[37m\u001b[0m \u001b[1m51s\u001b[0m 57ms/step - accuracy: 0.6889 - loss: 0.8310 - val_accuracy: 0.6000 - val_loss: 1.1067\n",
            "Epoch 10/80\n",
            "\u001b[1m897/897\u001b[0m \u001b[32m━━━━━━━━━━━━━━━━━━━━\u001b[0m\u001b[37m\u001b[0m \u001b[1m3s\u001b[0m 4ms/step - accuracy: 0.5625 - loss: 1.0945 - val_accuracy: 0.6084 - val_loss: 1.0838\n",
            "Epoch 11/80\n",
            "\u001b[1m897/897\u001b[0m \u001b[32m━━━━━━━━━━━━━━━━━━━━\u001b[0m\u001b[37m\u001b[0m \u001b[1m79s\u001b[0m 57ms/step - accuracy: 0.6893 - loss: 0.8230 - val_accuracy: 0.6177 - val_loss: 1.0447\n",
            "Epoch 12/80\n",
            "\u001b[1m897/897\u001b[0m \u001b[32m━━━━━━━━━━━━━━━━━━━━\u001b[0m\u001b[37m\u001b[0m \u001b[1m3s\u001b[0m 3ms/step - accuracy: 0.8125 - loss: 0.5759 - val_accuracy: 0.6173 - val_loss: 1.0488\n",
            "Epoch 13/80\n",
            "\u001b[1m897/897\u001b[0m \u001b[32m━━━━━━━━━━━━━━━━━━━━\u001b[0m\u001b[37m\u001b[0m \u001b[1m82s\u001b[0m 60ms/step - accuracy: 0.6970 - loss: 0.8041 - val_accuracy: 0.6021 - val_loss: 1.1283\n",
            "Epoch 14/80\n",
            "\u001b[1m897/897\u001b[0m \u001b[32m━━━━━━━━━━━━━━━━━━━━\u001b[0m\u001b[37m\u001b[0m \u001b[1m3s\u001b[0m 3ms/step - accuracy: 0.6562 - loss: 0.8409 - val_accuracy: 0.6025 - val_loss: 1.1300\n",
            "Epoch 15/80\n",
            "\u001b[1m897/897\u001b[0m \u001b[32m━━━━━━━━━━━━━━━━━━━━\u001b[0m\u001b[37m\u001b[0m \u001b[1m53s\u001b[0m 59ms/step - accuracy: 0.6829 - loss: 0.8287 - val_accuracy: 0.5919 - val_loss: 1.1404\n",
            "Epoch 16/80\n",
            "\u001b[1m897/897\u001b[0m \u001b[32m━━━━━━━━━━━━━━━━━━━━\u001b[0m\u001b[37m\u001b[0m \u001b[1m3s\u001b[0m 3ms/step - accuracy: 0.5938 - loss: 0.8406 - val_accuracy: 0.5851 - val_loss: 1.1639\n",
            "Epoch 17/80\n",
            "\u001b[1m897/897\u001b[0m \u001b[32m━━━━━━━━━━━━━━━━━━━━\u001b[0m\u001b[37m\u001b[0m \u001b[1m53s\u001b[0m 59ms/step - accuracy: 0.6985 - loss: 0.7950 - val_accuracy: 0.6232 - val_loss: 1.0483\n",
            "Epoch 18/80\n",
            "\u001b[1m897/897\u001b[0m \u001b[32m━━━━━━━━━━━━━━━━━━━━\u001b[0m\u001b[37m\u001b[0m \u001b[1m3s\u001b[0m 3ms/step - accuracy: 0.8125 - loss: 0.5541 - val_accuracy: 0.6198 - val_loss: 1.0501\n",
            "Epoch 19/80\n",
            "\u001b[1m897/897\u001b[0m \u001b[32m━━━━━━━━━━━━━━━━━━━━\u001b[0m\u001b[37m\u001b[0m \u001b[1m81s\u001b[0m 61ms/step - accuracy: 0.6964 - loss: 0.7958 - val_accuracy: 0.6184 - val_loss: 1.0867\n",
            "Epoch 20/80\n",
            "\u001b[1m897/897\u001b[0m \u001b[32m━━━━━━━━━━━━━━━━━━━━\u001b[0m\u001b[37m\u001b[0m \u001b[1m3s\u001b[0m 3ms/step - accuracy: 0.6562 - loss: 0.8745 - val_accuracy: 0.6183 - val_loss: 1.0892\n",
            "Epoch 21/80\n",
            "\u001b[1m897/897\u001b[0m \u001b[32m━━━━━━━━━━━━━━━━━━━━\u001b[0m\u001b[37m\u001b[0m \u001b[1m78s\u001b[0m 60ms/step - accuracy: 0.6980 - loss: 0.7912 - val_accuracy: 0.5853 - val_loss: 1.1550\n",
            "Epoch 22/80\n",
            "\u001b[1m897/897\u001b[0m \u001b[32m━━━━━━━━━━━━━━━━━━━━\u001b[0m\u001b[37m\u001b[0m \u001b[1m3s\u001b[0m 3ms/step - accuracy: 0.7188 - loss: 0.8226 - val_accuracy: 0.5847 - val_loss: 1.1531\n",
            "Epoch 23/80\n",
            "\u001b[1m897/897\u001b[0m \u001b[32m━━━━━━━━━━━━━━━━━━━━\u001b[0m\u001b[37m\u001b[0m \u001b[1m81s\u001b[0m 62ms/step - accuracy: 0.7026 - loss: 0.7841 - val_accuracy: 0.6135 - val_loss: 1.0874\n",
            "Epoch 24/80\n",
            "\u001b[1m897/897\u001b[0m \u001b[32m━━━━━━━━━━━━━━━━━━━━\u001b[0m\u001b[37m\u001b[0m \u001b[1m4s\u001b[0m 4ms/step - accuracy: 0.7188 - loss: 0.7250 - val_accuracy: 0.6151 - val_loss: 1.0823\n",
            "Epoch 25/80\n",
            "\u001b[1m897/897\u001b[0m \u001b[32m━━━━━━━━━━━━━━━━━━━━\u001b[0m\u001b[37m\u001b[0m \u001b[1m76s\u001b[0m 60ms/step - accuracy: 0.7143 - loss: 0.7631 - val_accuracy: 0.6140 - val_loss: 1.0924\n",
            "Epoch 26/80\n",
            "\u001b[1m897/897\u001b[0m \u001b[32m━━━━━━━━━━━━━━━━━━━━\u001b[0m\u001b[37m\u001b[0m \u001b[1m3s\u001b[0m 3ms/step - accuracy: 0.7500 - loss: 0.6951 - val_accuracy: 0.6147 - val_loss: 1.0938\n",
            "Epoch 27/80\n",
            "\u001b[1m897/897\u001b[0m \u001b[32m━━━━━━━━━━━━━━━━━━━━\u001b[0m\u001b[37m\u001b[0m \u001b[1m52s\u001b[0m 58ms/step - accuracy: 0.7094 - loss: 0.7749 - val_accuracy: 0.6120 - val_loss: 1.1129\n",
            "Epoch 28/80\n",
            "\u001b[1m897/897\u001b[0m \u001b[32m━━━━━━━━━━━━━━━━━━━━\u001b[0m\u001b[37m\u001b[0m \u001b[1m3s\u001b[0m 3ms/step - accuracy: 0.7500 - loss: 0.7298 - val_accuracy: 0.6128 - val_loss: 1.1145\n",
            "Epoch 29/80\n",
            "\u001b[1m897/897\u001b[0m \u001b[32m━━━━━━━━━━━━━━━━━━━━\u001b[0m\u001b[37m\u001b[0m \u001b[1m50s\u001b[0m 56ms/step - accuracy: 0.7103 - loss: 0.7749 - val_accuracy: 0.6279 - val_loss: 1.0396\n",
            "Epoch 30/80\n",
            "\u001b[1m897/897\u001b[0m \u001b[32m━━━━━━━━━━━━━━━━━━━━\u001b[0m\u001b[37m\u001b[0m \u001b[1m3s\u001b[0m 3ms/step - accuracy: 0.5312 - loss: 1.0152 - val_accuracy: 0.6286 - val_loss: 1.0394\n",
            "Epoch 31/80\n",
            "\u001b[1m897/897\u001b[0m \u001b[32m━━━━━━━━━━━━━━━━━━━━\u001b[0m\u001b[37m\u001b[0m \u001b[1m79s\u001b[0m 56ms/step - accuracy: 0.7178 - loss: 0.7530 - val_accuracy: 0.6092 - val_loss: 1.0841\n",
            "Epoch 32/80\n",
            "\u001b[1m897/897\u001b[0m \u001b[32m━━━━━━━━━━━━━━━━━━━━\u001b[0m\u001b[37m\u001b[0m \u001b[1m3s\u001b[0m 4ms/step - accuracy: 0.6250 - loss: 0.9125 - val_accuracy: 0.6088 - val_loss: 1.0867\n",
            "Epoch 33/80\n",
            "\u001b[1m897/897\u001b[0m \u001b[32m━━━━━━━━━━━━━━━━━━━━\u001b[0m\u001b[37m\u001b[0m \u001b[1m51s\u001b[0m 57ms/step - accuracy: 0.7199 - loss: 0.7487 - val_accuracy: 0.6140 - val_loss: 1.1010\n",
            "Epoch 34/80\n",
            "\u001b[1m897/897\u001b[0m \u001b[32m━━━━━━━━━━━━━━━━━━━━\u001b[0m\u001b[37m\u001b[0m \u001b[1m5s\u001b[0m 6ms/step - accuracy: 0.7812 - loss: 0.6973 - val_accuracy: 0.6087 - val_loss: 1.1140\n",
            "Epoch 35/80\n",
            "\u001b[1m897/897\u001b[0m \u001b[32m━━━━━━━━━━━━━━━━━━━━\u001b[0m\u001b[37m\u001b[0m \u001b[1m52s\u001b[0m 57ms/step - accuracy: 0.7169 - loss: 0.7578 - val_accuracy: 0.5997 - val_loss: 1.1264\n",
            "Epoch 36/80\n",
            "\u001b[1m897/897\u001b[0m \u001b[32m━━━━━━━━━━━━━━━━━━━━\u001b[0m\u001b[37m\u001b[0m \u001b[1m3s\u001b[0m 4ms/step - accuracy: 0.7812 - loss: 0.4737 - val_accuracy: 0.5989 - val_loss: 1.1253\n",
            "Epoch 37/80\n",
            "\u001b[1m897/897\u001b[0m \u001b[32m━━━━━━━━━━━━━━━━━━━━\u001b[0m\u001b[37m\u001b[0m \u001b[1m79s\u001b[0m 58ms/step - accuracy: 0.7188 - loss: 0.7471 - val_accuracy: 0.6142 - val_loss: 1.0949\n",
            "Epoch 38/80\n",
            "\u001b[1m897/897\u001b[0m \u001b[32m━━━━━━━━━━━━━━━━━━━━\u001b[0m\u001b[37m\u001b[0m \u001b[1m5s\u001b[0m 6ms/step - accuracy: 0.5625 - loss: 0.8945 - val_accuracy: 0.6145 - val_loss: 1.0891\n",
            "Epoch 39/80\n",
            "\u001b[1m897/897\u001b[0m \u001b[32m━━━━━━━━━━━━━━━━━━━━\u001b[0m\u001b[37m\u001b[0m \u001b[1m52s\u001b[0m 58ms/step - accuracy: 0.7244 - loss: 0.7395 - val_accuracy: 0.5756 - val_loss: 1.2073\n",
            "Epoch 40/80\n",
            "\u001b[1m897/897\u001b[0m \u001b[32m━━━━━━━━━━━━━━━━━━━━\u001b[0m\u001b[37m\u001b[0m \u001b[1m5s\u001b[0m 6ms/step - accuracy: 0.7500 - loss: 0.6410 - val_accuracy: 0.5748 - val_loss: 1.2043\n",
            "Epoch 41/80\n",
            "\u001b[1m897/897\u001b[0m \u001b[32m━━━━━━━━━━━━━━━━━━━━\u001b[0m\u001b[37m\u001b[0m \u001b[1m51s\u001b[0m 57ms/step - accuracy: 0.7269 - loss: 0.7338 - val_accuracy: 0.6123 - val_loss: 1.0907\n",
            "Epoch 42/80\n",
            "\u001b[1m897/897\u001b[0m \u001b[32m━━━━━━━━━━━━━━━━━━━━\u001b[0m\u001b[37m\u001b[0m \u001b[1m4s\u001b[0m 4ms/step - accuracy: 0.7812 - loss: 0.5743 - val_accuracy: 0.6106 - val_loss: 1.1013\n",
            "Epoch 43/80\n",
            "\u001b[1m897/897\u001b[0m \u001b[32m━━━━━━━━━━━━━━━━━━━━\u001b[0m\u001b[37m\u001b[0m \u001b[1m81s\u001b[0m 60ms/step - accuracy: 0.7263 - loss: 0.7262 - val_accuracy: 0.6035 - val_loss: 1.1079\n",
            "Epoch 44/80\n",
            "\u001b[1m897/897\u001b[0m \u001b[32m━━━━━━━━━━━━━━━━━━━━\u001b[0m\u001b[37m\u001b[0m \u001b[1m5s\u001b[0m 6ms/step - accuracy: 0.7188 - loss: 0.6085 - val_accuracy: 0.6045 - val_loss: 1.1060\n",
            "Epoch 45/80\n",
            "\u001b[1m897/897\u001b[0m \u001b[32m━━━━━━━━━━━━━━━━━━━━\u001b[0m\u001b[37m\u001b[0m \u001b[1m51s\u001b[0m 56ms/step - accuracy: 0.7237 - loss: 0.7296 - val_accuracy: 0.5960 - val_loss: 1.1694\n",
            "Epoch 46/80\n",
            "\u001b[1m897/897\u001b[0m \u001b[32m━━━━━━━━━━━━━━━━━━━━\u001b[0m\u001b[37m\u001b[0m \u001b[1m3s\u001b[0m 3ms/step - accuracy: 0.7500 - loss: 0.5934 - val_accuracy: 0.5967 - val_loss: 1.1653\n",
            "Epoch 47/80\n",
            "\u001b[1m897/897\u001b[0m \u001b[32m━━━━━━━━━━━━━━━━━━━━\u001b[0m\u001b[37m\u001b[0m \u001b[1m51s\u001b[0m 57ms/step - accuracy: 0.7293 - loss: 0.7303 - val_accuracy: 0.6121 - val_loss: 1.1146\n",
            "Epoch 48/80\n",
            "\u001b[1m897/897\u001b[0m \u001b[32m━━━━━━━━━━━━━━━━━━━━\u001b[0m\u001b[37m\u001b[0m \u001b[1m3s\u001b[0m 3ms/step - accuracy: 0.6562 - loss: 1.0057 - val_accuracy: 0.6121 - val_loss: 1.1129\n",
            "Epoch 49/80\n",
            "\u001b[1m897/897\u001b[0m \u001b[32m━━━━━━━━━━━━━━━━━━━━\u001b[0m\u001b[37m\u001b[0m \u001b[1m52s\u001b[0m 57ms/step - accuracy: 0.7325 - loss: 0.7090 - val_accuracy: 0.6163 - val_loss: 1.0894\n",
            "Epoch 50/80\n",
            "\u001b[1m897/897\u001b[0m \u001b[32m━━━━━━━━━━━━━━━━━━━━\u001b[0m\u001b[37m\u001b[0m \u001b[1m5s\u001b[0m 6ms/step - accuracy: 0.5625 - loss: 1.1831 - val_accuracy: 0.6147 - val_loss: 1.0966\n",
            "Epoch 51/80\n",
            "\u001b[1m897/897\u001b[0m \u001b[32m━━━━━━━━━━━━━━━━━━━━\u001b[0m\u001b[37m\u001b[0m \u001b[1m50s\u001b[0m 55ms/step - accuracy: 0.7306 - loss: 0.7141 - val_accuracy: 0.6037 - val_loss: 1.1659\n",
            "Epoch 52/80\n",
            "\u001b[1m897/897\u001b[0m \u001b[32m━━━━━━━━━━━━━━━━━━━━\u001b[0m\u001b[37m\u001b[0m \u001b[1m5s\u001b[0m 6ms/step - accuracy: 0.6562 - loss: 0.9304 - val_accuracy: 0.6088 - val_loss: 1.1607\n",
            "Epoch 53/80\n",
            "\u001b[1m897/897\u001b[0m \u001b[32m━━━━━━━━━━━━━━━━━━━━\u001b[0m\u001b[37m\u001b[0m \u001b[1m79s\u001b[0m 57ms/step - accuracy: 0.7370 - loss: 0.7053 - val_accuracy: 0.6126 - val_loss: 1.1486\n",
            "Epoch 54/80\n",
            "\u001b[1m897/897\u001b[0m \u001b[32m━━━━━━━━━━━━━━━━━━━━\u001b[0m\u001b[37m\u001b[0m \u001b[1m5s\u001b[0m 6ms/step - accuracy: 0.8750 - loss: 0.4993 - val_accuracy: 0.6112 - val_loss: 1.1544\n",
            "Epoch 55/80\n",
            "\u001b[1m897/897\u001b[0m \u001b[32m━━━━━━━━━━━━━━━━━━━━\u001b[0m\u001b[37m\u001b[0m \u001b[1m76s\u001b[0m 56ms/step - accuracy: 0.7305 - loss: 0.7153 - val_accuracy: 0.6220 - val_loss: 1.0670\n",
            "Epoch 56/80\n",
            "\u001b[1m897/897\u001b[0m \u001b[32m━━━━━━━━━━━━━━━━━━━━\u001b[0m\u001b[37m\u001b[0m \u001b[1m3s\u001b[0m 3ms/step - accuracy: 0.6562 - loss: 0.8507 - val_accuracy: 0.6204 - val_loss: 1.0697\n",
            "Epoch 57/80\n",
            "\u001b[1m897/897\u001b[0m \u001b[32m━━━━━━━━━━━━━━━━━━━━\u001b[0m\u001b[37m\u001b[0m \u001b[1m51s\u001b[0m 57ms/step - accuracy: 0.7445 - loss: 0.6904 - val_accuracy: 0.6167 - val_loss: 1.1112\n",
            "Epoch 58/80\n",
            "\u001b[1m897/897\u001b[0m \u001b[32m━━━━━━━━━━━━━━━━━━━━\u001b[0m\u001b[37m\u001b[0m \u001b[1m3s\u001b[0m 3ms/step - accuracy: 0.7812 - loss: 0.5686 - val_accuracy: 0.6184 - val_loss: 1.0950\n",
            "Epoch 59/80\n",
            "\u001b[1m897/897\u001b[0m \u001b[32m━━━━━━━━━━━━━━━━━━━━\u001b[0m\u001b[37m\u001b[0m \u001b[1m50s\u001b[0m 55ms/step - accuracy: 0.7380 - loss: 0.6999 - val_accuracy: 0.6154 - val_loss: 1.1261\n",
            "Epoch 60/80\n",
            "\u001b[1m897/897\u001b[0m \u001b[32m━━━━━━━━━━━━━━━━━━━━\u001b[0m\u001b[37m\u001b[0m \u001b[1m3s\u001b[0m 3ms/step - accuracy: 0.7500 - loss: 0.5125 - val_accuracy: 0.6163 - val_loss: 1.1264\n",
            "Epoch 61/80\n",
            "\u001b[1m897/897\u001b[0m \u001b[32m━━━━━━━━━━━━━━━━━━━━\u001b[0m\u001b[37m\u001b[0m \u001b[1m49s\u001b[0m 54ms/step - accuracy: 0.7469 - loss: 0.6799 - val_accuracy: 0.6127 - val_loss: 1.1327\n",
            "Epoch 62/80\n",
            "\u001b[1m897/897\u001b[0m \u001b[32m━━━━━━━━━━━━━━━━━━━━\u001b[0m\u001b[37m\u001b[0m \u001b[1m3s\u001b[0m 3ms/step - accuracy: 0.7188 - loss: 0.6357 - val_accuracy: 0.6158 - val_loss: 1.1144\n",
            "Epoch 63/80\n",
            "\u001b[1m897/897\u001b[0m \u001b[32m━━━━━━━━━━━━━━━━━━━━\u001b[0m\u001b[37m\u001b[0m \u001b[1m80s\u001b[0m 55ms/step - accuracy: 0.7474 - loss: 0.6806 - val_accuracy: 0.6180 - val_loss: 1.1017\n",
            "Epoch 64/80\n",
            "\u001b[1m897/897\u001b[0m \u001b[32m━━━━━━━━━━━━━━━━━━━━\u001b[0m\u001b[37m\u001b[0m \u001b[1m3s\u001b[0m 3ms/step - accuracy: 0.6562 - loss: 0.9371 - val_accuracy: 0.6190 - val_loss: 1.1033\n",
            "Epoch 65/80\n",
            "\u001b[1m897/897\u001b[0m \u001b[32m━━━━━━━━━━━━━━━━━━━━\u001b[0m\u001b[37m\u001b[0m \u001b[1m51s\u001b[0m 56ms/step - accuracy: 0.7441 - loss: 0.6819 - val_accuracy: 0.6239 - val_loss: 1.1151\n",
            "Epoch 66/80\n",
            "\u001b[1m897/897\u001b[0m \u001b[32m━━━━━━━━━━━━━━━━━━━━\u001b[0m\u001b[37m\u001b[0m \u001b[1m5s\u001b[0m 6ms/step - accuracy: 0.7188 - loss: 0.9556 - val_accuracy: 0.6213 - val_loss: 1.1182\n",
            "Epoch 67/80\n",
            "\u001b[1m897/897\u001b[0m \u001b[32m━━━━━━━━━━━━━━━━━━━━\u001b[0m\u001b[37m\u001b[0m \u001b[1m76s\u001b[0m 55ms/step - accuracy: 0.7417 - loss: 0.6871 - val_accuracy: 0.6052 - val_loss: 1.1611\n",
            "Epoch 68/80\n",
            "\u001b[1m897/897\u001b[0m \u001b[32m━━━━━━━━━━━━━━━━━━━━\u001b[0m\u001b[37m\u001b[0m \u001b[1m3s\u001b[0m 3ms/step - accuracy: 0.6250 - loss: 0.7319 - val_accuracy: 0.6042 - val_loss: 1.1615\n",
            "Epoch 69/80\n",
            "\u001b[1m897/897\u001b[0m \u001b[32m━━━━━━━━━━━━━━━━━━━━\u001b[0m\u001b[37m\u001b[0m \u001b[1m53s\u001b[0m 59ms/step - accuracy: 0.7478 - loss: 0.6813 - val_accuracy: 0.6229 - val_loss: 1.1118\n",
            "Epoch 70/80\n",
            "\u001b[1m897/897\u001b[0m \u001b[32m━━━━━━━━━━━━━━━━━━━━\u001b[0m\u001b[37m\u001b[0m \u001b[1m5s\u001b[0m 6ms/step - accuracy: 0.7812 - loss: 0.5568 - val_accuracy: 0.6250 - val_loss: 1.1121\n",
            "Epoch 71/80\n",
            "\u001b[1m897/897\u001b[0m \u001b[32m━━━━━━━━━━━━━━━━━━━━\u001b[0m\u001b[37m\u001b[0m \u001b[1m74s\u001b[0m 55ms/step - accuracy: 0.7467 - loss: 0.6740 - val_accuracy: 0.6208 - val_loss: 1.1127\n",
            "Epoch 72/80\n",
            "\u001b[1m897/897\u001b[0m \u001b[32m━━━━━━━━━━━━━━━━━━━━\u001b[0m\u001b[37m\u001b[0m \u001b[1m3s\u001b[0m 4ms/step - accuracy: 0.7812 - loss: 0.6483 - val_accuracy: 0.6142 - val_loss: 1.1233\n",
            "Epoch 73/80\n",
            "\u001b[1m897/897\u001b[0m \u001b[32m━━━━━━━━━━━━━━━━━━━━\u001b[0m\u001b[37m\u001b[0m \u001b[1m48s\u001b[0m 53ms/step - accuracy: 0.7529 - loss: 0.6662 - val_accuracy: 0.5967 - val_loss: 1.1523\n",
            "Epoch 74/80\n",
            "\u001b[1m897/897\u001b[0m \u001b[32m━━━━━━━━━━━━━━━━━━━━\u001b[0m\u001b[37m\u001b[0m \u001b[1m4s\u001b[0m 4ms/step - accuracy: 0.6250 - loss: 0.8643 - val_accuracy: 0.5992 - val_loss: 1.1390\n",
            "Epoch 75/80\n",
            "\u001b[1m897/897\u001b[0m \u001b[32m━━━━━━━━━━━━━━━━━━━━\u001b[0m\u001b[37m\u001b[0m \u001b[1m79s\u001b[0m 55ms/step - accuracy: 0.7523 - loss: 0.6630 - val_accuracy: 0.6135 - val_loss: 1.1576\n",
            "Epoch 76/80\n",
            "\u001b[1m897/897\u001b[0m \u001b[32m━━━━━━━━━━━━━━━━━━━━\u001b[0m\u001b[37m\u001b[0m \u001b[1m3s\u001b[0m 3ms/step - accuracy: 0.8438 - loss: 0.6560 - val_accuracy: 0.6151 - val_loss: 1.1567\n",
            "Epoch 77/80\n",
            "\u001b[1m897/897\u001b[0m \u001b[32m━━━━━━━━━━━━━━━━━━━━\u001b[0m\u001b[37m\u001b[0m \u001b[1m49s\u001b[0m 54ms/step - accuracy: 0.7495 - loss: 0.6692 - val_accuracy: 0.6081 - val_loss: 1.1346\n",
            "Epoch 78/80\n",
            "\u001b[1m897/897\u001b[0m \u001b[32m━━━━━━━━━━━━━━━━━━━━\u001b[0m\u001b[37m\u001b[0m \u001b[1m3s\u001b[0m 3ms/step - accuracy: 0.5625 - loss: 0.7910 - val_accuracy: 0.6066 - val_loss: 1.1348\n",
            "Epoch 79/80\n",
            "\u001b[1m897/897\u001b[0m \u001b[32m━━━━━━━━━━━━━━━━━━━━\u001b[0m\u001b[37m\u001b[0m \u001b[1m50s\u001b[0m 55ms/step - accuracy: 0.7578 - loss: 0.6506 - val_accuracy: 0.6305 - val_loss: 1.0790\n",
            "Epoch 80/80\n",
            "\u001b[1m897/897\u001b[0m \u001b[32m━━━━━━━━━━━━━━━━━━━━\u001b[0m\u001b[37m\u001b[0m \u001b[1m3s\u001b[0m 3ms/step - accuracy: 0.5938 - loss: 0.9252 - val_accuracy: 0.6322 - val_loss: 1.0819\n"
          ]
        }
      ]
    },
    {
      "cell_type": "code",
      "source": [
        "plt.plot(mod.history['accuracy'], color='red', label='Training Accuracy')\n",
        "plt.plot(mod.history['val_accuracy'], color='blue', label='Test Accuracy')\n",
        "plt.legend()\n",
        "plt.show()"
      ],
      "metadata": {
        "id": "03S-OBFqwAbO",
        "colab": {
          "base_uri": "https://localhost:8080/",
          "height": 430
        },
        "outputId": "1b7dc239-d054-43db-f63f-6f53a07ea513"
      },
      "execution_count": 35,
      "outputs": [
        {
          "output_type": "display_data",
          "data": {
            "text/plain": [
              "<Figure size 640x480 with 1 Axes>"
            ],
            "image/png": "[encoded data removed]"
          },
          "metadata": {}
        }
      ]
    },
    {
      "cell_type": "code",
      "source": [
        "plt.plot(mod.history['loss'], color='red', label='Training loss')\n",
        "plt.plot(mod.history['val_loss'], color='blue', label='Test loss')\n",
        "plt.legend()\n",
        "plt.show()"
      ],
      "metadata": {
        "id": "cFC-PH8AwCHf",
        "colab": {
          "base_uri": "https://localhost:8080/",
          "height": 431
        },
        "outputId": "04613299-1bab-4a80-f019-363b15ad997f"
      },
      "execution_count": 36,
      "outputs": [
        {
          "output_type": "display_data",
          "data": {
            "text/plain": [
              "<Figure size 640x480 with 1 Axes>"
            ],
            "image/png": "[encoded data removed]"
          },
          "metadata": {}
        }
      ]
    },
    {
      "cell_type": "code",
      "source": [
        "test_img = cv2.imread('/content/test/happy/PrivateTest_10077120.jpg')"
      ],
      "metadata": {
        "id": "tQwNaKnGIVRJ"
      },
      "execution_count": 37,
      "outputs": []
    },
    {
      "cell_type": "code",
      "source": [
        "test_img"
      ],
      "metadata": {
        "colab": {
          "base_uri": "https://localhost:8080/",
          "height": 89
        },
        "id": "uAfSjIplIVN4",
        "outputId": "30a38d1e-ea76-477f-b3f0-3e46f65e0e8f"
      },
      "execution_count": 38,
      "outputs": [
        {
          "output_type": "execute_result",
          "data": {
            "text/plain": [
              "array([[[200, 200, 200],\n",
              "        [208, 208, 208],\n",
              "        [186, 186, 186],\n",
              "        ...,\n",
              "        [ 79,  79,  79],\n",
              "        [ 84,  84,  84],\n",
              "        [105, 105, 105]],\n",
              "\n",
              "       [[202, 202, 202],\n",
              "        [202, 202, 202],\n",
              "        [181, 181, 181],\n",
              "        ...,\n",
              "        [ 78,  78,  78],\n",
              "        [ 95,  95,  95],\n",
              "        [ 91,  91,  91]],\n",
              "\n",
              "       [[224, 224, 224],\n",
              "        [197, 197, 197],\n",
              "        [168, 168, 168],\n",
              "        ...,\n",
              "        [ 80,  80,  80],\n",
              "        [ 75,  75,  75],\n",
              "        [ 92,  92,  92]],\n",
              "\n",
              "       ...,\n",
              "\n",
              "       [[194, 194, 194],\n",
              "        [168, 168, 168],\n",
              "        [189, 189, 189],\n",
              "        ...,\n",
              "        [188, 188, 188],\n",
              "        [158, 158, 158],\n",
              "        [154, 154, 154]],\n",
              "\n",
              "       [[204, 204, 204],\n",
              "        [171, 171, 171],\n",
              "        [165, 165, 165],\n",
              "        ...,\n",
              "        [138, 138, 138],\n",
              "        [120, 120, 120],\n",
              "        [ 86,  86,  86]],\n",
              "\n",
              "       [[152, 152, 152],\n",
              "        [197, 197, 197],\n",
              "        [147, 147, 147],\n",
              "        ...,\n",
              "        [129, 129, 129],\n",
              "        [136, 136, 136],\n",
              "        [121, 121, 121]]], dtype=uint8)"
            ],
            "text/html": [
              "<style>\n",
              "      .ndarray_repr .ndarray_raw_data {\n",
              "        display: none;\n",
              "      }\n",
              "      .ndarray_repr.show_array .ndarray_raw_data {\n",
              "        display: block;\n",
              "      }\n",
              "      .ndarray_repr.show_array .ndarray_image_preview {\n",
              "        display: none;\n",
              "      }\n",
              "      </style>\n",
              "      <div id=\"id-ac7693ad-471e-4e88-9626-62680c162442\" class=\"ndarray_repr\"><pre>ndarray (48, 48, 3) <button style=\"padding: 0 2px;\">show data</button></pre><img src=\"data:image/png;base64,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\" class=\"ndarray_image_preview\" /><pre class=\"ndarray_raw_data\">array([[[200, 200, 200],\n",
              "        [208, 208, 208],\n",
              "        [186, 186, 186],\n",
              "        ...,\n",
              "        [ 79,  79,  79],\n",
              "        [ 84,  84,  84],\n",
              "        [105, 105, 105]],\n",
              "\n",
              "       [[202, 202, 202],\n",
              "        [202, 202, 202],\n",
              "        [181, 181, 181],\n",
              "        ...,\n",
              "        [ 78,  78,  78],\n",
              "        [ 95,  95,  95],\n",
              "        [ 91,  91,  91]],\n",
              "\n",
              "       [[224, 224, 224],\n",
              "        [197, 197, 197],\n",
              "        [168, 168, 168],\n",
              "        ...,\n",
              "        [ 80,  80,  80],\n",
              "        [ 75,  75,  75],\n",
              "        [ 92,  92,  92]],\n",
              "\n",
              "       ...,\n",
              "\n",
              "       [[194, 194, 194],\n",
              "        [168, 168, 168],\n",
              "        [189, 189, 189],\n",
              "        ...,\n",
              "        [188, 188, 188],\n",
              "        [158, 158, 158],\n",
              "        [154, 154, 154]],\n",
              "\n",
              "       [[204, 204, 204],\n",
              "        [171, 171, 171],\n",
              "        [165, 165, 165],\n",
              "        ...,\n",
              "        [138, 138, 138],\n",
              "        [120, 120, 120],\n",
              "        [ 86,  86,  86]],\n",
              "\n",
              "       [[152, 152, 152],\n",
              "        [197, 197, 197],\n",
              "        [147, 147, 147],\n",
              "        ...,\n",
              "        [129, 129, 129],\n",
              "        [136, 136, 136],\n",
              "        [121, 121, 121]]], dtype=uint8)</pre></div><script>\n",
              "      (() => {\n",
              "      const titles = ['show data', 'hide data'];\n",
              "      let index = 0\n",
              "      document.querySelector('#id-ac7693ad-471e-4e88-9626-62680c162442 button').onclick = (e) => {\n",
              "        document.querySelector('#id-ac7693ad-471e-4e88-9626-62680c162442').classList.toggle('show_array');\n",
              "        index = (++index) % 2;\n",
              "        document.querySelector('#id-ac7693ad-471e-4e88-9626-62680c162442 button').textContent = titles[index];\n",
              "        e.preventDefault();\n",
              "        e.stopPropagation();\n",
              "      }\n",
              "      })();\n",
              "    </script>"
            ]
          },
          "metadata": {},
          "execution_count": 38
        }
      ]
    },
    {
      "cell_type": "code",
      "source": [
        "input_img=test_img.reshape(1,48,48,3)"
      ],
      "metadata": {
        "id": "p4whUJr7S7yE"
      },
      "execution_count": 40,
      "outputs": []
    },
    {
      "cell_type": "code",
      "source": [
        "model.predict(input_img)[0][0]"
      ],
      "metadata": {
        "colab": {
          "base_uri": "https://localhost:8080/"
        },
        "id": "_DDrhTG0IVLJ",
        "outputId": "e31e56c5-8e3a-45ca-a770-fbcc0ee51bd2"
      },
      "execution_count": 43,
      "outputs": [
        {
          "output_type": "stream",
          "name": "stdout",
          "text": [
            "\u001b[1m1/1\u001b[0m \u001b[32m━━━━━━━━━━━━━━━━━━━━\u001b[0m\u001b[37m\u001b[0m \u001b[1m0s\u001b[0m 20ms/step\n"
          ]
        },
        {
          "output_type": "execute_result",
          "data": {
            "text/plain": [
              "0.055094186"
            ]
          },
          "metadata": {},
          "execution_count": 43
        }
      ]
    },
    {
      "cell_type": "code",
      "source": [
        "test_img2=cv2.imread('/content/test/angry/PrivateTest_14433751.jpg')"
      ],
      "metadata": {
        "id": "RNWHho0eU_LM"
      },
      "execution_count": 114,
      "outputs": []
    },
    {
      "cell_type": "code",
      "source": [
        "test_img2"
      ],
      "metadata": {
        "colab": {
          "base_uri": "https://localhost:8080/",
          "height": 89
        },
        "id": "KrOChtR7VKgx",
        "outputId": "e2427113-bd5d-41ca-a2bf-922cf55f3624"
      },
      "execution_count": 115,
      "outputs": [
        {
          "output_type": "execute_result",
          "data": {
            "text/plain": [
              "array([[[ 89,  89,  89],\n",
              "        [118, 118, 118],\n",
              "        [157, 157, 157],\n",
              "        ...,\n",
              "        [213, 213, 213],\n",
              "        [208, 208, 208],\n",
              "        [143, 143, 143]],\n",
              "\n",
              "       [[ 99,  99,  99],\n",
              "        [135, 135, 135],\n",
              "        [164, 164, 164],\n",
              "        ...,\n",
              "        [208, 208, 208],\n",
              "        [210, 210, 210],\n",
              "        [136, 136, 136]],\n",
              "\n",
              "       [[116, 116, 116],\n",
              "        [156, 156, 156],\n",
              "        [170, 170, 170],\n",
              "        ...,\n",
              "        [211, 211, 211],\n",
              "        [204, 204, 204],\n",
              "        [134, 134, 134]],\n",
              "\n",
              "       ...,\n",
              "\n",
              "       [[138, 138, 138],\n",
              "        [136, 136, 136],\n",
              "        [125, 125, 125],\n",
              "        ...,\n",
              "        [252, 252, 252],\n",
              "        [254, 254, 254],\n",
              "        [254, 254, 254]],\n",
              "\n",
              "       [[146, 146, 146],\n",
              "        [137, 137, 137],\n",
              "        [134, 134, 134],\n",
              "        ...,\n",
              "        [254, 254, 254],\n",
              "        [254, 254, 254],\n",
              "        [254, 254, 254]],\n",
              "\n",
              "       [[153, 153, 153],\n",
              "        [145, 145, 145],\n",
              "        [148, 148, 148],\n",
              "        ...,\n",
              "        [254, 254, 254],\n",
              "        [255, 255, 255],\n",
              "        [255, 255, 255]]], dtype=uint8)"
            ],
            "text/html": [
              "<style>\n",
              "      .ndarray_repr .ndarray_raw_data {\n",
              "        display: none;\n",
              "      }\n",
              "      .ndarray_repr.show_array .ndarray_raw_data {\n",
              "        display: block;\n",
              "      }\n",
              "      .ndarray_repr.show_array .ndarray_image_preview {\n",
              "        display: none;\n",
              "      }\n",
              "      </style>\n",
              "      <div id=\"id-5420ff92-e5e0-4750-9f20-d746cc2f387c\" class=\"ndarray_repr\"><pre>ndarray (48, 48, 3) <button style=\"padding: 0 2px;\">show data</button></pre><img src=\"data:image/png;base64,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\" class=\"ndarray_image_preview\" /><pre class=\"ndarray_raw_data\">array([[[ 89,  89,  89],\n",
              "        [118, 118, 118],\n",
              "        [157, 157, 157],\n",
              "        ...,\n",
              "        [213, 213, 213],\n",
              "        [208, 208, 208],\n",
              "        [143, 143, 143]],\n",
              "\n",
              "       [[ 99,  99,  99],\n",
              "        [135, 135, 135],\n",
              "        [164, 164, 164],\n",
              "        ...,\n",
              "        [208, 208, 208],\n",
              "        [210, 210, 210],\n",
              "        [136, 136, 136]],\n",
              "\n",
              "       [[116, 116, 116],\n",
              "        [156, 156, 156],\n",
              "        [170, 170, 170],\n",
              "        ...,\n",
              "        [211, 211, 211],\n",
              "        [204, 204, 204],\n",
              "        [134, 134, 134]],\n",
              "\n",
              "       ...,\n",
              "\n",
              "       [[138, 138, 138],\n",
              "        [136, 136, 136],\n",
              "        [125, 125, 125],\n",
              "        ...,\n",
              "        [252, 252, 252],\n",
              "        [254, 254, 254],\n",
              "        [254, 254, 254]],\n",
              "\n",
              "       [[146, 146, 146],\n",
              "        [137, 137, 137],\n",
              "        [134, 134, 134],\n",
              "        ...,\n",
              "        [254, 254, 254],\n",
              "        [254, 254, 254],\n",
              "        [254, 254, 254]],\n",
              "\n",
              "       [[153, 153, 153],\n",
              "        [145, 145, 145],\n",
              "        [148, 148, 148],\n",
              "        ...,\n",
              "        [254, 254, 254],\n",
              "        [255, 255, 255],\n",
              "        [255, 255, 255]]], dtype=uint8)</pre></div><script>\n",
              "      (() => {\n",
              "      const titles = ['show data', 'hide data'];\n",
              "      let index = 0\n",
              "      document.querySelector('#id-5420ff92-e5e0-4750-9f20-d746cc2f387c button').onclick = (e) => {\n",
              "        document.querySelector('#id-5420ff92-e5e0-4750-9f20-d746cc2f387c').classList.toggle('show_array');\n",
              "        index = (++index) % 2;\n",
              "        document.querySelector('#id-5420ff92-e5e0-4750-9f20-d746cc2f387c button').textContent = titles[index];\n",
              "        e.preventDefault();\n",
              "        e.stopPropagation();\n",
              "      }\n",
              "      })();\n",
              "    </script>"
            ]
          },
          "metadata": {},
          "execution_count": 115
        }
      ]
    },
    {
      "cell_type": "code",
      "source": [
        "input_img=test_img2.reshape(1,48,48,3)"
      ],
      "metadata": {
        "id": "HPqDNDqjVNBP"
      },
      "execution_count": 116,
      "outputs": []
    },
    {
      "cell_type": "code",
      "source": [
        "output=model.predict(input_img)\n",
        "output"
      ],
      "metadata": {
        "colab": {
          "base_uri": "https://localhost:8080/"
        },
        "id": "B5ETsqTpVT38",
        "outputId": "2f62319d-acb7-4b14-95ad-f92fa16d7fb4"
      },
      "execution_count": 117,
      "outputs": [
        {
          "output_type": "stream",
          "name": "stdout",
          "text": [
            "\u001b[1m1/1\u001b[0m \u001b[32m━━━━━━━━━━━━━━━━━━━━\u001b[0m\u001b[37m\u001b[0m \u001b[1m0s\u001b[0m 23ms/step\n"
          ]
        },
        {
          "output_type": "execute_result",
          "data": {
            "text/plain": [
              "array([[0.54911107, 0.00133118, 0.02859967, 0.36555162, 0.01188079,\n",
              "        0.00944597, 0.03407973]], dtype=float32)"
            ]
          },
          "metadata": {},
          "execution_count": 117
        }
      ]
    },
    {
      "cell_type": "code",
      "source": [
        "emotions = [\"Angry\", \"Disgust\", \"Fear\", \"Happy\", \"Sad\", \"Surprise\", \"Neutral\"]\n",
        "\n",
        "# Flatten the output array (extract the probabilities from the 2D array)\n",
        "output_flat = output.flatten()\n",
        "\n",
        "# Get the index of the maximum probability\n",
        "predicted_index = np.argmax(output_flat)\n",
        "\n",
        "# Map the index to the corresponding emotion\n",
        "predicted_emotion = emotions[predicted_index]\n",
        "\n",
        "print(\"Predicted Emotion:\", predicted_emotion)"
      ],
      "metadata": {
        "colab": {
          "base_uri": "https://localhost:8080/"
        },
        "id": "E_u9qGReYGPW",
        "outputId": "117bd1bc-1b1c-4ea4-9ff9-ca920462408c"
      },
      "execution_count": 118,
      "outputs": [
        {
          "output_type": "stream",
          "name": "stdout",
          "text": [
            "Predicted Emotion: Angry\n"
          ]
        }
      ]
    },
    {
      "cell_type": "code",
      "source": [
        "def EmotionPrediction(img):\n",
        "  input_img=img.reshape(1,48,48,3)\n",
        "  output=model.predict(input_img)\n",
        "  print(f'output array: {output}')\n",
        "  emotions = [\"Angry\", \"Disgust\", \"Fear\", \"Happy\", \"Sad\", \"Surprise\", \"Neutral\"]\n",
        "\n",
        "  # Flatten the output array (extract the probabilities from the 2D array)\n",
        "  output_flat = output.flatten()\n",
        "\n",
        "  # Get the index of the maximum probability\n",
        "  predicted_index = np.argmax(output_flat)\n",
        "\n",
        "  # Map the index to the corresponding emotion\n",
        "  predicted_emotion = emotions[predicted_index]\n",
        "  print(\"Predicted Emotion:\", predicted_emotion)\n",
        "  return 0"
      ],
      "metadata": {
        "id": "Or2Fvsp3Yk-y"
      },
      "execution_count": 119,
      "outputs": []
    },
    {
      "cell_type": "code",
      "source": [
        "img=cv2.imread('/content/test/neutral/PrivateTest_19416537.jpg')\n",
        "img"
      ],
      "metadata": {
        "colab": {
          "base_uri": "https://localhost:8080/",
          "height": 89
        },
        "id": "PLrmouqWZD_F",
        "outputId": "11c64d83-0b43-4ebe-fdae-02af2192a8b3"
      },
      "execution_count": 131,
      "outputs": [
        {
          "output_type": "execute_result",
          "data": {
            "text/plain": [
              "array([[[133, 133, 133],\n",
              "        [132, 132, 132],\n",
              "        [129, 129, 129],\n",
              "        ...,\n",
              "        [ 31,  31,  31],\n",
              "        [ 31,  31,  31],\n",
              "        [ 38,  38,  38]],\n",
              "\n",
              "       [[130, 130, 130],\n",
              "        [133, 133, 133],\n",
              "        [125, 125, 125],\n",
              "        ...,\n",
              "        [ 28,  28,  28],\n",
              "        [ 35,  35,  35],\n",
              "        [ 27,  27,  27]],\n",
              "\n",
              "       [[131, 131, 131],\n",
              "        [135, 135, 135],\n",
              "        [135, 135, 135],\n",
              "        ...,\n",
              "        [ 23,  23,  23],\n",
              "        [ 31,  31,  31],\n",
              "        [ 31,  31,  31]],\n",
              "\n",
              "       ...,\n",
              "\n",
              "       [[ 37,  37,  37],\n",
              "        [ 30,  30,  30],\n",
              "        [ 37,  37,  37],\n",
              "        ...,\n",
              "        [ 35,  35,  35],\n",
              "        [ 34,  34,  34],\n",
              "        [ 13,  13,  13]],\n",
              "\n",
              "       [[ 32,  32,  32],\n",
              "        [ 33,  33,  33],\n",
              "        [ 32,  32,  32],\n",
              "        ...,\n",
              "        [ 59,  59,  59],\n",
              "        [ 15,  15,  15],\n",
              "        [ 12,  12,  12]],\n",
              "\n",
              "       [[ 29,  29,  29],\n",
              "        [ 29,  29,  29],\n",
              "        [ 26,  26,  26],\n",
              "        ...,\n",
              "        [ 22,  22,  22],\n",
              "        [ 10,  10,  10],\n",
              "        [ 11,  11,  11]]], dtype=uint8)"
            ],
            "text/html": [
              "<style>\n",
              "      .ndarray_repr .ndarray_raw_data {\n",
              "        display: none;\n",
              "      }\n",
              "      .ndarray_repr.show_array .ndarray_raw_data {\n",
              "        display: block;\n",
              "      }\n",
              "      .ndarray_repr.show_array .ndarray_image_preview {\n",
              "        display: none;\n",
              "      }\n",
              "      </style>\n",
              "      <div id=\"id-02307063-d61e-4aff-9012-c1490b2e5bc1\" class=\"ndarray_repr\"><pre>ndarray (48, 48, 3) <button style=\"padding: 0 2px;\">show data</button></pre><img src=\"data:image/png;base64,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\" class=\"ndarray_image_preview\" /><pre class=\"ndarray_raw_data\">array([[[133, 133, 133],\n",
              "        [132, 132, 132],\n",
              "        [129, 129, 129],\n",
              "        ...,\n",
              "        [ 31,  31,  31],\n",
              "        [ 31,  31,  31],\n",
              "        [ 38,  38,  38]],\n",
              "\n",
              "       [[130, 130, 130],\n",
              "        [133, 133, 133],\n",
              "        [125, 125, 125],\n",
              "        ...,\n",
              "        [ 28,  28,  28],\n",
              "        [ 35,  35,  35],\n",
              "        [ 27,  27,  27]],\n",
              "\n",
              "       [[131, 131, 131],\n",
              "        [135, 135, 135],\n",
              "        [135, 135, 135],\n",
              "        ...,\n",
              "        [ 23,  23,  23],\n",
              "        [ 31,  31,  31],\n",
              "        [ 31,  31,  31]],\n",
              "\n",
              "       ...,\n",
              "\n",
              "       [[ 37,  37,  37],\n",
              "        [ 30,  30,  30],\n",
              "        [ 37,  37,  37],\n",
              "        ...,\n",
              "        [ 35,  35,  35],\n",
              "        [ 34,  34,  34],\n",
              "        [ 13,  13,  13]],\n",
              "\n",
              "       [[ 32,  32,  32],\n",
              "        [ 33,  33,  33],\n",
              "        [ 32,  32,  32],\n",
              "        ...,\n",
              "        [ 59,  59,  59],\n",
              "        [ 15,  15,  15],\n",
              "        [ 12,  12,  12]],\n",
              "\n",
              "       [[ 29,  29,  29],\n",
              "        [ 29,  29,  29],\n",
              "        [ 26,  26,  26],\n",
              "        ...,\n",
              "        [ 22,  22,  22],\n",
              "        [ 10,  10,  10],\n",
              "        [ 11,  11,  11]]], dtype=uint8)</pre></div><script>\n",
              "      (() => {\n",
              "      const titles = ['show data', 'hide data'];\n",
              "      let index = 0\n",
              "      document.querySelector('#id-02307063-d61e-4aff-9012-c1490b2e5bc1 button').onclick = (e) => {\n",
              "        document.querySelector('#id-02307063-d61e-4aff-9012-c1490b2e5bc1').classList.toggle('show_array');\n",
              "        index = (++index) % 2;\n",
              "        document.querySelector('#id-02307063-d61e-4aff-9012-c1490b2e5bc1 button').textContent = titles[index];\n",
              "        e.preventDefault();\n",
              "        e.stopPropagation();\n",
              "      }\n",
              "      })();\n",
              "    </script>"
            ]
          },
          "metadata": {},
          "execution_count": 131
        }
      ]
    },
    {
      "cell_type": "code",
      "source": [
        "EmotionPrediction(img)"
      ],
      "metadata": {
        "colab": {
          "base_uri": "https://localhost:8080/"
        },
        "id": "1a-ZxhXPZSAS",
        "outputId": "fa8b2ea3-7437-4583-b692-c9f2d03053dd"
      },
      "execution_count": 132,
      "outputs": [
        {
          "output_type": "stream",
          "name": "stdout",
          "text": [
            "\u001b[1m1/1\u001b[0m \u001b[32m━━━━━━━━━━━━━━━━━━━━\u001b[0m\u001b[37m\u001b[0m \u001b[1m0s\u001b[0m 21ms/step\n",
            "output array: [[2.7467762e-04 4.9950864e-07 1.4801237e-03 9.8879528e-01 5.5421758e-03\n",
            "  2.1655010e-03 1.7416136e-03]]\n",
            "Predicted Emotion: Happy\n"
          ]
        },
        {
          "output_type": "execute_result",
          "data": {
            "text/plain": [
              "0"
            ]
          },
          "metadata": {},
          "execution_count": 132
        }
      ]
    },
    {
      "cell_type": "code",
      "source": [
        "model.evaluate(train_generator)"
      ],
      "metadata": {
        "colab": {
          "base_uri": "https://localhost:8080/"
        },
        "id": "yfyhjPmta6Q1",
        "outputId": "506d0844-3629-4a1a-d29c-e69342a4aaea"
      },
      "execution_count": 133,
      "outputs": [
        {
          "output_type": "stream",
          "name": "stdout",
          "text": [
            "\u001b[1m898/898\u001b[0m \u001b[32m━━━━━━━━━━━━━━━━━━━━\u001b[0m\u001b[37m\u001b[0m \u001b[1m45s\u001b[0m 50ms/step - accuracy: 0.7577 - loss: 0.6426\n"
          ]
        },
        {
          "output_type": "execute_result",
          "data": {
            "text/plain": [
              "[0.6452797651290894, 0.7576718330383301]"
            ]
          },
          "metadata": {},
          "execution_count": 133
        }
      ]
    },
    {
      "cell_type": "code",
      "source": [
        "model.evaluate(validation_generator)"
      ],
      "metadata": {
        "colab": {
          "base_uri": "https://localhost:8080/"
        },
        "id": "EnOmTNZUa89y",
        "outputId": "6af89413-021e-4853-adb4-55a83b1d3205"
      },
      "execution_count": 135,
      "outputs": [
        {
          "output_type": "stream",
          "name": "stdout",
          "text": [
            "\u001b[1m225/225\u001b[0m \u001b[32m━━━━━━━━━━━━━━━━━━━━\u001b[0m\u001b[37m\u001b[0m \u001b[1m3s\u001b[0m 13ms/step - accuracy: 0.6342 - loss: 1.0702\n"
          ]
        },
        {
          "output_type": "execute_result",
          "data": {
            "text/plain": [
              "[1.0819199085235596, 0.6322095394134521]"
            ]
          },
          "metadata": {},
          "execution_count": 135
        }
      ]
    },
    {
      "cell_type": "code",
      "source": [
        "from tensorflow.keras.layers import Dropout\n",
        "from tensorflow.keras import regularizers"
      ],
      "metadata": {
        "id": "UkPyjJn_Y0q7"
      },
      "execution_count": null,
      "outputs": []
    },
    {
      "cell_type": "code",
      "source": [
        "model = Sequential()\n",
        "\n",
        "model.add(Conv2D(32, kernel_size=(3,3),strides=1,padding='valid',activation='relu',kernel_regularizer= regularizers.l2(0.01),input_shape=(48,48,3))),\n",
        "model.add(Dropout(0.5))\n",
        "model.add(BatchNormalization()),\n",
        "model.add(MaxPooling2D(pool_size=(2,2),strides=2,padding='valid')),\n",
        "\n",
        "model.add(Conv2D(64, kernel_size=(3,3),strides=1,padding='valid',activation='relu',kernel_regularizer= regularizers.l2(0.01),input_shape=(48,48,3))),\n",
        "model.add(Dropout(0.5))\n",
        "model.add(BatchNormalization()),\n",
        "model.add(MaxPooling2D(pool_size=(2,2),strides=2,padding='valid')),\n",
        "\n",
        "model.add(Conv2D(128, kernel_size=(3,3),strides=1,padding='valid',activation='relu',kernel_regularizer= regularizers.l2(0.01),input_shape=(48,48,3))),\n",
        "model.add(Dropout(0.5))\n",
        "model.add(BatchNormalization()),\n",
        "model.add(MaxPooling2D(pool_size=(2,2),strides=2,padding='valid')),\n",
        "\n",
        "model.add(Reshape((16, 128)))\n",
        "model.add(LSTM(64, return_sequences=True,kernel_regularizer= regularizers.l2(0.01))),  # Return sequences for another LSTM layer\n",
        "model.add(Dropout(0.5))\n",
        "model.add(LSTM(64))  # Final LSTM layer\n",
        "\n",
        "model.add(Dense(128,activation='relu',kernel_regularizer= regularizers.l2(0.01))),\n",
        "model.add(Dense(64,activation='relu',kernel_regularizer= regularizers.l2(0.01))),\n",
        "model.add(Dense(7,activation='softmax'))\n",
        "\n"
      ],
      "metadata": {
        "id": "kd-_caG1ZG88"
      },
      "execution_count": null,
      "outputs": []
    },
    {
      "cell_type": "code",
      "source": [
        "model.summary()"
      ],
      "metadata": {
        "id": "fgvoXRzRbZNC"
      },
      "execution_count": null,
      "outputs": []
    },
    {
      "cell_type": "code",
      "source": [
        "model.compile(optimizer='adam',loss='categorical_crossentropy',metrics=['accuracy'])\n"
      ],
      "metadata": {
        "id": "HbjBsqz6baa4"
      },
      "execution_count": null,
      "outputs": []
    },
    {
      "cell_type": "code",
      "source": [
        "mod=model.fit(train_generator,steps_per_epoch=steps_per_epoch,epochs=50,validation_data=validation_generator)"
      ],
      "metadata": {
        "id": "8_DWdIxXcgxq"
      },
      "execution_count": null,
      "outputs": []
    },
    {
      "cell_type": "code",
      "source": [
        "plt.plot(mod.history['accuracy'], color='red', label='Training Accuracy')\n",
        "plt.plot(mod.history['val_accuracy'], color='blue', label='Test Accuracy')\n",
        "plt.legend()\n",
        "plt.show()"
      ],
      "metadata": {
        "id": "d7ts-qE0dfzG"
      },
      "execution_count": null,
      "outputs": []
    },
    {
      "cell_type": "code",
      "source": [
        "plt.plot(mod.history['loss'], color='red', label='Training loss')\n",
        "plt.plot(mod.history['val_loss'], color='blue', label='Test loss')\n",
        "plt.legend()\n",
        "plt.show()"
      ],
      "metadata": {
        "id": "Nhd0noIFdLhh"
      },
      "execution_count": null,
      "outputs": []
    },
    {
      "cell_type": "code",
      "source": [
        "model.evaluate(train_generator)"
      ],
      "metadata": {
        "id": "8sZedpk_drO7"
      },
      "execution_count": null,
      "outputs": []
    },
    {
      "cell_type": "code",
      "source": [
        "model.evaluate(validation_generator)"
      ],
      "metadata": {
        "id": "22hADlyBduTA"
      },
      "execution_count": null,
      "outputs": []
    },
    {
      "cell_type": "code",
      "source": [
        "from tensorflow.keras.applications import  VGG16"
      ],
      "metadata": {
        "id": "pe2tMbp0dia5"
      },
      "execution_count": null,
      "outputs": []
    },
    {
      "cell_type": "code",
      "source": [
        "base_model = VGG16(weights='imagenet', include_top=False, input_shape=(48, 48, 3))"
      ],
      "metadata": {
        "id": "fBNjsdvcd8bh"
      },
      "execution_count": null,
      "outputs": []
    },
    {
      "cell_type": "code",
      "source": [
        "from tensorflow.keras import models, layers\n",
        "from tensorflow.keras.layers import Input"
      ],
      "metadata": {
        "id": "DmHZ1EBDnJBC"
      },
      "execution_count": null,
      "outputs": []
    },
    {
      "cell_type": "code",
      "source": [
        "# Load pre-trained VGG16 model without the top classification layers\n",
        "# and with a specific input shape\n",
        "base_model = VGG16(weights='imagenet', include_top=False, input_shape=(48, 48, 3))\n",
        "\n",
        "# Freeze layers in the base model\n",
        "for layer in base_model.layers:\n",
        "    layer.trainable = False\n",
        "\n",
        "# Define the input layer with the desired shape\n",
        "input_tensor = Input(shape=(48, 48, 3))\n",
        "\n",
        "# Pass the input through the base model\n",
        "x = base_model(input_tensor)\n",
        "\n",
        "# Build the custom model using the Functional API\n",
        "model = models.Model(inputs=input_tensor, outputs=x)  # Create a Keras Model\n",
        "\n",
        "# Add a Global Average Pooling layer\n",
        "# Add a Global Average Pooling layer to reduce to a 1D tensor\n",
        "x = layers.GlobalAveragePooling2D()(x)\n",
        "\n",
        "# Check the output shape after GlobalAveragePooling2D\n",
        "print(\"Shape after GlobalAveragePooling2D:\", x.shape)  # Debugging step\n",
        "\n",
        "# Now reshape explicitly for the LSTM layer\n",
        "# We expect x.shape[1] here to be compatible with the LSTM layer's input\n",
        "x = layers.Reshape((1, x.shape[1]))(x)  # Reshape to (batch_size, time_steps=1, features)\n",
        "\n",
        "# Add LSTM layers and other layers as needed...\n",
        "x = layers.LSTM(64, return_sequences=True)(x)\n",
        "x = layers.LSTM(64)(x)\n",
        "x = layers.Dense(128, activation='relu')(x)\n",
        "x = layers.Dropout(0.5)(x)\n",
        "output_tensor = layers.Dense(7, activation='softmax')(x)\n",
        "\n",
        "# Create the final model\n",
        "model = models.Model(inputs=input_tensor, outputs=output_tensor)\n",
        "\n",
        "# Display the model summary\n",
        "model.summary()"
      ],
      "metadata": {
        "id": "LMj9fgVLd_De"
      },
      "execution_count": null,
      "outputs": []
    },
    {
      "cell_type": "code",
      "source": [
        "model.compile(optimizer='adam',loss='categorical_crossentropy',metrics=['accuracy'])\n"
      ],
      "metadata": {
        "id": "5wFEak50nVR2"
      },
      "execution_count": null,
      "outputs": []
    },
    {
      "cell_type": "code",
      "source": [
        "mod=model.fit(train_generator,steps_per_epoch=steps_per_epoch,epochs=50,validation_data=validation_generator)"
      ],
      "metadata": {
        "id": "bYTNcLpWqjMy"
      },
      "execution_count": null,
      "outputs": []
    },
    {
      "cell_type": "code",
      "source": [
        "plt.plot(mod.history['loss'], color='red', label='Training loss')\n",
        "plt.plot(mod.history['val_loss'], color='blue', label='Test loss')\n",
        "plt.legend()\n",
        "plt.show()"
      ],
      "metadata": {
        "id": "WqV-t2LbuNg8"
      },
      "execution_count": null,
      "outputs": []
    },
    {
      "cell_type": "code",
      "source": [
        "plt.plot(mod.history['accuracy'], color='red', label='Training Accuracy')\n",
        "plt.plot(mod.history['val_accuracy'], color='blue', label='Test Accuracy')\n",
        "plt.legend()\n",
        "plt.show()"
      ],
      "metadata": {
        "id": "Lgy3HuiiuO3_"
      },
      "execution_count": null,
      "outputs": []
    },
    {
      "cell_type": "code",
      "source": [
        "model.evaluate(train_generator)\n",
        "model.evaluate(validation_generator)"
      ],
      "metadata": {
        "id": "rXHfsMSruQoN"
      },
      "execution_count": null,
      "outputs": []
    },
    {
      "cell_type": "code",
      "source": [
        "mod=model.fit(train_generator,steps_per_epoch=steps_per_epoch,epochs=100,validation_data=validation_generator)"
      ],
      "metadata": {
        "id": "Fhseeh7kzsR2"
      },
      "execution_count": null,
      "outputs": []
    },
    {
      "cell_type": "code",
      "source": [],
      "metadata": {
        "id": "J6vAh6ZM-luB"
      },
      "execution_count": null,
      "outputs": []
    }
  ]
}